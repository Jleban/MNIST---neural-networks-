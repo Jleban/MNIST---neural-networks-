{
 "cells": [
  {
   "cell_type": "markdown",
   "metadata": {},
   "source": [
    "### Imports"
   ]
  },
  {
   "cell_type": "code",
   "execution_count": 1,
   "metadata": {},
   "outputs": [],
   "source": [
    "import numpy as np\n",
    "from scipy.integrate import quad\n",
    "#For plotting\n",
    "import matplotlib.pyplot as plt\n",
    "%matplotlib inline\n",
    "import warnings\n",
    "warnings.filterwarnings('ignore')"
   ]
  },
  {
   "cell_type": "markdown",
   "metadata": {
    "collapsed": true
   },
   "source": [
    "***"
   ]
  },
  {
   "cell_type": "markdown",
   "metadata": {},
   "source": [
    "The goal of this notebook is to introduce deep neural networks (DNNs) and convolutional neural networks (CNNs) using the high-level Keras package and to become familiar with how to choose its architecture, cost function, and optimizer in Keras. We will also learn how to train neural networks.\n",
    "\n",
    "We will work with the MNIST dataset of hand written digits. The goal is to find a statistical model which recognizes and distinguishes between the ten handwritten digits (0-9).\n",
    "\n",
    "The MNIST dataset comprises handwritten digits, each of which comes in a square image, divided into a $28\\times 28$ pixel grid. Every pixel can take on $256$ nuances of the gray color, interpolating between white and black, and hence each data point assumes any value in the set $\\{0,1,\\dots,255\\}$. Since there are $10$ categories in the problem, corresponding to the ten digits, this problem represents a generic classification task. \n",
    "\n",
    "In this Notebook, we show how to use the Keras python package to tackle the MNIST problem with the help of deep neural networks."
   ]
  },
  {
   "cell_type": "markdown",
   "metadata": {},
   "source": [
    "## Creating DNNs with Keras\n",
    "\n",
    "Constructing a Deep Neural Network to solve ML problems is a multiple-stage process. Quite generally, one can identify the key steps as follows:\n",
    "\n",
    "* ***step 1:*** Load and process the data\n",
    "* ***step 2:*** Define the model and its architecture\n",
    "* ***step 3:*** Choose the optimizer and the cost function\n",
    "* ***step 4:*** Train the model \n",
    "* ***step 5:*** Evaluate the model performance on the *unseen* test data\n",
    "* ***step 6:*** Modify the hyperparameters to optimize performance for the specific data set\n",
    "\n",
    "We would like to emphasize that, while it is always possible to view steps 1-5 as independent of the particular task we are trying to solve, it is only when they are put together in ***step 6*** that the real gain of using Deep Learning is revealed, compared to less sophisticated methods such as the regression models. With this remark in mind, we shall focus predominantly on steps 1-5 below. We show how one can use grid search methods to find optimal hyperparameters in ***step 6***."
   ]
  },
  {
   "cell_type": "markdown",
   "metadata": {},
   "source": [
    "### Step 1: Load and Process the Data\n",
    "\n",
    "Keras knows to download automatically the MNIST data from the web. All we need to do is import the `mnist` module and use the `load_data()` class, and it will create the training and test data sets or us.\n",
    "\n",
    "The MNIST set has pre-defined test and training sets, in order to facilitate the comparison of the performance of different models on the data.\n",
    "\n",
    "Once we have loaded the data, we need to format it in the correct shape ($({\\mathrm{N_{samples}}}, {\\mathrm{N_{features}}})$). \n",
    "\n",
    "The size of each sample, i.e. the number of bare features used is N_features (whis is 784 because we have a $28 \\times 28$ pixel grid), while the number of potential classification categories is \"num_classes\" (which is 10, number of digits).\n",
    "\n",
    "Each pixel\n",
    "contains a greyscale value quantified by an integer between\n",
    "0 and 255. To standardize the dataset, we normalize\n",
    "the input data in the interval [0, 1]. "
   ]
  },
  {
   "cell_type": "code",
   "execution_count": 2,
   "metadata": {},
   "outputs": [
    {
     "name": "stderr",
     "output_type": "stream",
     "text": [
      "Using TensorFlow backend.\n"
     ]
    }
   ],
   "source": [
    "from __future__ import print_function\n",
    "import keras,sklearn\n",
    "# suppress tensorflow compilation warnings\n",
    "import os\n",
    "import tensorflow as tf\n",
    "os.environ['TF_CPP_MIN_LOG_LEVEL'] = '2'\n",
    "seed=0\n",
    "np.random.seed(seed) # fix random seed\n",
    "tf.set_random_seed(seed)\n",
    "\n",
    "from keras.datasets import mnist\n",
    "\n",
    "# input image dimensions\n",
    "num_classes = 10 # 10 digits\n",
    "\n",
    "img_rows, img_cols = 28, 28 # number of pixels \n",
    "\n",
    "# the data, shuffled and split between train and test sets\n",
    "(X_train, Y_train), (X_test, Y_test) = mnist.load_data()\n",
    "X_train = X_train[:40000]\n",
    "Y_train = Y_train[:40000]\n",
    "\n",
    "# reshape data, depending on Keras backend\n",
    "X_train = X_train.reshape(X_train.shape[0], img_rows*img_cols)\n",
    "X_test = X_test.reshape(X_test.shape[0], img_rows*img_cols)\n",
    "    \n",
    "# cast floats to single precesion\n",
    "X_train = X_train.astype('float32')\n",
    "X_test = X_test.astype('float32')\n",
    "\n",
    "# rescale data in interval [0,1]\n",
    "X_train /= 255\n",
    "X_test /= 255\n"
   ]
  },
  {
   "cell_type": "markdown",
   "metadata": {},
   "source": [
    "<span style=\"color:blue\"> <i> First we make a plot of one MNIST digit (2D plot using X data - we reshape it into a $28 \\times 28$ matrix) and label it (which digit does it correspond to?). </i></span> <br>"
   ]
  },
  {
   "cell_type": "code",
   "execution_count": 3,
   "metadata": {},
   "outputs": [
    {
     "name": "stdout",
     "output_type": "stream",
     "text": [
      "label is  5\n"
     ]
    },
    {
     "data": {
      "image/png": "[encoded data removed]",
      "text/plain": [
       "<Figure size 432x288 with 1 Axes>"
      ]
     },
     "metadata": {
      "needs_background": "light"
     },
     "output_type": "display_data"
    }
   ],
   "source": [
    "X_train_0 = X_train[0].reshape((28, 28))\n",
    "\n",
    "plt.imshow(X_train_0, cmap=plt.cm.gray)\n",
    "print('label is ', Y_train[0])"
   ]
  },
  {
   "cell_type": "markdown",
   "metadata": {},
   "source": [
    "Last, we cast the label vectors $y$ to binary class matrices (a.k.a. one-hot format)."
   ]
  },
  {
   "cell_type": "code",
   "execution_count": 4,
   "metadata": {},
   "outputs": [
    {
     "name": "stdout",
     "output_type": "stream",
     "text": [
      "before conversion - \n",
      "y vector :  [5 0 4 1 9 2 1 3 1 4]\n",
      "after conversion - \n",
      "y vector :  [[0. 0. 0. 0. 0. 1. 0. 0. 0. 0.]\n",
      " [1. 0. 0. 0. 0. 0. 0. 0. 0. 0.]\n",
      " [0. 0. 0. 0. 1. 0. 0. 0. 0. 0.]\n",
      " [0. 1. 0. 0. 0. 0. 0. 0. 0. 0.]\n",
      " [0. 0. 0. 0. 0. 0. 0. 0. 0. 1.]\n",
      " [0. 0. 1. 0. 0. 0. 0. 0. 0. 0.]\n",
      " [0. 1. 0. 0. 0. 0. 0. 0. 0. 0.]\n",
      " [0. 0. 0. 1. 0. 0. 0. 0. 0. 0.]\n",
      " [0. 1. 0. 0. 0. 0. 0. 0. 0. 0.]\n",
      " [0. 0. 0. 0. 1. 0. 0. 0. 0. 0.]]\n"
     ]
    }
   ],
   "source": [
    "# convert class vectors to binary class matrices\n",
    "\n",
    "print(\"before conversion - \")\n",
    "print(\"y vector : \", Y_train[0:10])\n",
    "\n",
    "Y_train = keras.utils.to_categorical(Y_train, num_classes)\n",
    "Y_test = keras.utils.to_categorical(Y_test, num_classes)\n",
    "\n",
    "print(\"after conversion - \")\n",
    "print(\"y vector : \", Y_train[0:10])"
   ]
  },
  {
   "cell_type": "markdown",
   "metadata": {},
   "source": [
    "Here in this template, we use 40000 training samples and 10000 test samples. Remember that we preprocessed data into the shape $({\\mathrm{N_{samples}}}, {\\mathrm{N_{features}}})$."
   ]
  },
  {
   "cell_type": "code",
   "execution_count": 5,
   "metadata": {},
   "outputs": [
    {
     "name": "stdout",
     "output_type": "stream",
     "text": [
      "X_train shape: (40000, 784)\n",
      "Y_train shape: (40000, 10)\n",
      "\n",
      "40000 train samples\n",
      "10000 test samples\n"
     ]
    }
   ],
   "source": [
    "print('X_train shape:', X_train.shape)\n",
    "print('Y_train shape:', Y_train.shape)\n",
    "print()\n",
    "print(X_train.shape[0], 'train samples')\n",
    "print(X_test.shape[0], 'test samples')"
   ]
  },
  {
   "cell_type": "markdown",
   "metadata": {},
   "source": [
    "### Step 2: Define the Neural Net and its Architecture\n",
    "\n",
    "We can now move on to construct our deep neural net. We shall use Keras's `Sequential()` class to instantiate a model, and will add different deep layers one by one.\n",
    "\n",
    "Let us create an instance of Keras' `Sequential()` class, called `model`. As the name suggests, this class allows us to build DNNs layer by layer. (https://keras.io/getting-started/sequential-model-guide/)"
   ]
  },
  {
   "cell_type": "code",
   "execution_count": 6,
   "metadata": {},
   "outputs": [
    {
     "name": "stdout",
     "output_type": "stream",
     "text": [
      "WARNING:tensorflow:From /srv/app/venv/lib/python3.6/site-packages/keras/backend/tensorflow_backend.py:58: The name tf.get_default_graph is deprecated. Please use tf.compat.v1.get_default_graph instead.\n",
      "\n"
     ]
    }
   ],
   "source": [
    "from keras.models import Sequential\n",
    "from keras.layers import Dense, Dropout, Flatten\n",
    "from keras.layers import Conv2D, MaxPooling2D\n",
    "\n",
    "# instantiate model\n",
    "model = Sequential()"
   ]
  },
  {
   "cell_type": "markdown",
   "metadata": {},
   "source": [
    "We use the `add()` method to attach layers to our model. For the purposes of our introductory example, it suffices to focus on `Dense` layers for simplicity. (https://keras.io/layers/core/) Every `Dense()` layer accepts as its first required argument an integer which specifies the number of neurons. The type of activation function for the layer is defined using the `activation` optional argument, the input of which is the name of the activation function in `string` format. Examples include `relu`, `tanh`, `elu`, `sigmoid`, `softmax`.\n",
    "\n",
    "In order for our DNN to work properly, we have to make sure that the numbers of input and output neurons for each layer match. Therefore, we specify the shape of the input in the first layer of the model explicitly using the optional argument `input_shape=(N_features,)`. The sequential construction of the model then allows Keras to infer the correct input/output dimensions of all hidden layers automatically. Hence, we only need to specify the size of the softmax output layer to match the number of categories.\n",
    "\n",
    "First, add a `Dense` layer with 400 output neurons and `relu` activation function."
   ]
  },
  {
   "cell_type": "code",
   "execution_count": 7,
   "metadata": {},
   "outputs": [
    {
     "name": "stdout",
     "output_type": "stream",
     "text": [
      "WARNING:tensorflow:From /srv/app/venv/lib/python3.6/site-packages/keras/backend/tensorflow_backend.py:442: The name tf.placeholder is deprecated. Please use tf.compat.v1.placeholder instead.\n",
      "\n",
      "WARNING:tensorflow:From /srv/app/venv/lib/python3.6/site-packages/keras/backend/tensorflow_backend.py:3543: The name tf.random_uniform is deprecated. Please use tf.random.uniform instead.\n",
      "\n"
     ]
    }
   ],
   "source": [
    "model.add(Dense(400,input_shape=(img_rows*img_cols,), activation='relu'))"
   ]
  },
  {
   "cell_type": "markdown",
   "metadata": {},
   "source": [
    "Add another layer with 100 output neurons. Then, we will apply \"dropout,\" a regularization scheme that has been widely adopted in the neural networks literature: during the training procedure neurons\n",
    "are randomly “dropped out” of the neural network with some\n",
    "probability $p$ giving rise to a thinned network. It prevents overfitting by reducing spurious correlations between neurons within the network by introducing\n",
    "a randomization procedure."
   ]
  },
  {
   "cell_type": "code",
   "execution_count": 8,
   "metadata": {},
   "outputs": [
    {
     "name": "stdout",
     "output_type": "stream",
     "text": [
      "WARNING:tensorflow:From /srv/app/venv/lib/python3.6/site-packages/keras/backend/tensorflow_backend.py:2888: calling dropout (from tensorflow.python.ops.nn_ops) with keep_prob is deprecated and will be removed in a future version.\n",
      "Instructions for updating:\n",
      "Please use `rate` instead of `keep_prob`. Rate should be set to `rate = 1 - keep_prob`.\n"
     ]
    }
   ],
   "source": [
    "model.add(Dense(100, activation='relu'))\n",
    "# apply dropout with rate 0.5\n",
    "model.add(Dropout(0.5))"
   ]
  },
  {
   "cell_type": "markdown",
   "metadata": {},
   "source": [
    "Lastly, we need to add a soft-max layer since we have a multi-class output."
   ]
  },
  {
   "cell_type": "code",
   "execution_count": 9,
   "metadata": {},
   "outputs": [],
   "source": [
    "model.add(Dense(num_classes, activation='softmax'))"
   ]
  },
  {
   "cell_type": "markdown",
   "metadata": {},
   "source": [
    "### Step 3: Choose the Optimizer and the Cost Function\n",
    "\n",
    "Next, we choose the loss function according to which to train the DNN. For classification problems, this is the cross entropy, and since the output data was cast in categorical form, we choose the `categorical_crossentropy` defined in Keras' `losses` module. Depending on the problem of interest one can pick any other suitable loss function. To optimize the weights of the net, we choose SGD. This algorithm is already available to use under Keras' `optimizers` module (https://keras.io/optimizers/), but we could use `Adam()` or any other built-in one as well. The parameters for the optimizer, such as `lr` (learning rate) or `momentum` are passed using the corresponding optional arguments of the `SGD()` function. \n",
    "\n",
    "While the loss function and the optimizer are essential for the training procedure, to test the performance of the model one may want to look at a particular `metric` of performance. For instance, in categorical tasks one typically looks at their `accuracy`, which is defined as the percentage of correctly classified data points. \n",
    "\n",
    "To complete the definition of our model, we use the `compile()` method, with optional arguments for the `optimizer`, `loss`, and the validation `metric` as follows:"
   ]
  },
  {
   "cell_type": "code",
   "execution_count": 10,
   "metadata": {},
   "outputs": [
    {
     "name": "stdout",
     "output_type": "stream",
     "text": [
      "WARNING:tensorflow:From /srv/app/venv/lib/python3.6/site-packages/keras/optimizers.py:711: The name tf.train.Optimizer is deprecated. Please use tf.compat.v1.train.Optimizer instead.\n",
      "\n",
      "WARNING:tensorflow:From /srv/app/venv/lib/python3.6/site-packages/keras/backend/tensorflow_backend.py:2755: calling reduce_sum_v1 (from tensorflow.python.ops.math_ops) with keep_dims is deprecated and will be removed in a future version.\n",
      "Instructions for updating:\n",
      "keep_dims is deprecated, use keepdims instead\n",
      "WARNING:tensorflow:From /srv/app/venv/lib/python3.6/site-packages/keras/backend/tensorflow_backend.py:2759: The name tf.log is deprecated. Please use tf.math.log instead.\n",
      "\n"
     ]
    }
   ],
   "source": [
    "# compile the model\n",
    "model.compile(loss=keras.losses.categorical_crossentropy, optimizer='SGD', metrics=['accuracy'])\n"
   ]
  },
  {
   "cell_type": "markdown",
   "metadata": {},
   "source": [
    "### Step 4: Train the model\n",
    "\n",
    "We train our DNN in minibatches. Shuffling the training data during training improves stability of the model. Thus, we train over a number of training epochs. \n",
    "\n",
    "(The number of epochs is the number of complete passes through the training dataset, and the batch size is a number of samples propagated through the network before the model is updated.)\n",
    "\n",
    "Training the DNN is a one-liner using the `fit()` method of the `Sequential` class. The first two required arguments are the training input and output data. As optional arguments, we specify the mini-`batch_size`, the number of training `epochs`, and the test or validation data. To monitor the training procedure for every epoch, we set `verbose=True`. \n",
    "\n",
    "Let us set `batch_size` = 64 and `epochs` = 10."
   ]
  },
  {
   "cell_type": "code",
   "execution_count": 11,
   "metadata": {},
   "outputs": [
    {
     "name": "stdout",
     "output_type": "stream",
     "text": [
      "WARNING:tensorflow:From /srv/app/venv/lib/python3.6/site-packages/tensorflow_core/python/ops/math_grad.py:1424: where (from tensorflow.python.ops.array_ops) is deprecated and will be removed in a future version.\n",
      "Instructions for updating:\n",
      "Use tf.where in 2.0, which has the same broadcast rule as np.where\n",
      "WARNING:tensorflow:From /srv/app/venv/lib/python3.6/site-packages/keras/backend/tensorflow_backend.py:899: The name tf.assign_add is deprecated. Please use tf.compat.v1.assign_add instead.\n",
      "\n",
      "WARNING:tensorflow:From /srv/app/venv/lib/python3.6/site-packages/keras/backend/tensorflow_backend.py:625: calling Constant.__init__ (from tensorflow.python.ops.init_ops) with dtype is deprecated and will be removed in a future version.\n",
      "Instructions for updating:\n",
      "Call initializer instance with the dtype argument instead of passing it to the constructor\n",
      "WARNING:tensorflow:From /srv/app/venv/lib/python3.6/site-packages/keras/backend/tensorflow_backend.py:886: The name tf.assign is deprecated. Please use tf.compat.v1.assign instead.\n",
      "\n",
      "WARNING:tensorflow:From /srv/app/venv/lib/python3.6/site-packages/keras/backend/tensorflow_backend.py:2294: The name tf.Session is deprecated. Please use tf.compat.v1.Session instead.\n",
      "\n",
      "Train on 40000 samples, validate on 10000 samples\n",
      "Epoch 1/10\n",
      "WARNING:tensorflow:From /srv/app/venv/lib/python3.6/site-packages/keras/backend/tensorflow_backend.py:153: The name tf.get_default_session is deprecated. Please use tf.compat.v1.get_default_session instead.\n",
      "\n",
      "WARNING:tensorflow:From /srv/app/venv/lib/python3.6/site-packages/keras/backend/tensorflow_backend.py:158: The name tf.ConfigProto is deprecated. Please use tf.compat.v1.ConfigProto instead.\n",
      "\n",
      "WARNING:tensorflow:From /srv/app/venv/lib/python3.6/site-packages/keras/backend/tensorflow_backend.py:333: The name tf.global_variables is deprecated. Please use tf.compat.v1.global_variables instead.\n",
      "\n",
      "WARNING:tensorflow:From /srv/app/venv/lib/python3.6/site-packages/keras/backend/tensorflow_backend.py:341: The name tf.variables_initializer is deprecated. Please use tf.compat.v1.variables_initializer instead.\n",
      "\n",
      "40000/40000 [==============================] - 3s - loss: 1.2014 - acc: 0.6446 - val_loss: 0.5088 - val_acc: 0.8838\n",
      "Epoch 2/10\n",
      "40000/40000 [==============================] - 2s - loss: 0.5894 - acc: 0.8317 - val_loss: 0.3645 - val_acc: 0.9065\n",
      "Epoch 3/10\n",
      "40000/40000 [==============================] - 3s - loss: 0.4755 - acc: 0.8649 - val_loss: 0.3081 - val_acc: 0.9194\n",
      "Epoch 4/10\n",
      "40000/40000 [==============================] - 3s - loss: 0.4101 - acc: 0.8813 - val_loss: 0.2755 - val_acc: 0.9243\n",
      "Epoch 5/10\n",
      "40000/40000 [==============================] - 3s - loss: 0.3716 - acc: 0.8977 - val_loss: 0.2526 - val_acc: 0.9289\n",
      "Epoch 6/10\n",
      "40000/40000 [==============================] - 2s - loss: 0.3445 - acc: 0.9030 - val_loss: 0.2338 - val_acc: 0.9340\n",
      "Epoch 7/10\n",
      "40000/40000 [==============================] - 3s - loss: 0.3185 - acc: 0.9105 - val_loss: 0.2203 - val_acc: 0.9384\n",
      "Epoch 8/10\n",
      "40000/40000 [==============================] - 3s - loss: 0.2991 - acc: 0.9171 - val_loss: 0.2059 - val_acc: 0.9414\n",
      "Epoch 9/10\n",
      "40000/40000 [==============================] - 3s - loss: 0.2815 - acc: 0.9212 - val_loss: 0.1971 - val_acc: 0.9437\n",
      "Epoch 10/10\n",
      "40000/40000 [==============================] - 3s - loss: 0.2656 - acc: 0.9268 - val_loss: 0.1873 - val_acc: 0.9458\n"
     ]
    }
   ],
   "source": [
    "# training parameters\n",
    "batch_size = 64\n",
    "epochs = 10\n",
    "\n",
    "# train DNN and store training info in history\n",
    "history=model.fit(X_train, Y_train, batch_size=batch_size, epochs=epochs,\n",
    "          verbose=1, validation_data=(X_test, Y_test))"
   ]
  },
  {
   "cell_type": "markdown",
   "metadata": {},
   "source": [
    "### Step 5: Evaluate the Model Performance on the *Unseen* Test Data\n",
    "\n",
    "Next, we evaluate the model and read of the loss on the test data, and its accuracy using the `evaluate()` method."
   ]
  },
  {
   "cell_type": "code",
   "execution_count": 12,
   "metadata": {},
   "outputs": [
    {
     "name": "stdout",
     "output_type": "stream",
     "text": [
      " 9280/10000 [==========================>...] - ETA: 0sTest loss: 0.18727896657288073\n",
      "Test accuracy: 0.9458\n"
     ]
    },
    {
     "data": {
      "image/png": "[encoded data removed]",
      "text/plain": [
       "<Figure size 432x288 with 1 Axes>"
      ]
     },
     "metadata": {
      "needs_background": "light"
     },
     "output_type": "display_data"
    },
    {
     "data": {
      "image/png": "[encoded data removed]",
      "text/plain": [
       "<Figure size 432x288 with 1 Axes>"
      ]
     },
     "metadata": {
      "needs_background": "light"
     },
     "output_type": "display_data"
    }
   ],
   "source": [
    "# evaluate model\n",
    "score = model.evaluate(X_test, Y_test, verbose=1)\n",
    "\n",
    "# print performance\n",
    "print('Test loss:', score[0])\n",
    "print('Test accuracy:', score[1])\n",
    "\n",
    "# look into training history\n",
    "\n",
    "# summarize history for accuracy\n",
    "plt.plot(history.history['acc'])\n",
    "plt.plot(history.history['val_acc'])\n",
    "plt.ylabel('model accuracy')\n",
    "plt.xlabel('epoch')\n",
    "plt.legend(['train', 'test'], loc='best')\n",
    "plt.show()\n",
    "\n",
    "# summarize history for loss\n",
    "plt.plot(history.history['loss'])\n",
    "plt.plot(history.history['val_loss'])\n",
    "plt.ylabel('model loss')\n",
    "plt.xlabel('epoch')\n",
    "plt.legend(['train', 'test'], loc='best')\n",
    "plt.show()"
   ]
  },
  {
   "cell_type": "markdown",
   "metadata": {},
   "source": [
    "### Step 6: Modify the Hyperparameters to Optimize Performance of the Model\n",
    "\n",
    "Last, we show how to use the grid search option of scikit-learn (https://scikit-learn.org/stable/modules/generated/sklearn.model_selection.GridSearchCV.html) to optimize the \n",
    "hyperparameters of our model.\n",
    "\n",
    "First, define a function for crating a DNN:"
   ]
  },
  {
   "cell_type": "code",
   "execution_count": 18,
   "metadata": {},
   "outputs": [],
   "source": [
    "def create_DNN(optimizer=keras.optimizers.Adam()):\n",
    "    model = Sequential()\n",
    "    model.add(Dense(400,input_shape=(img_rows*img_cols,), activation='relu'))\n",
    "    model.add(Dense(100, activation='relu'))\n",
    "    model.add(Dropout(0.5))\n",
    "    model.add(Dense(num_classes, activation='softmax'))\n",
    "    model.compile(loss=keras.losses.categorical_crossentropy,\n",
    "              optimizer=optimizer,\n",
    "              metrics=['accuracy'])\n",
    "    return model"
   ]
  },
  {
   "cell_type": "markdown",
   "metadata": {},
   "source": [
    "With epochs = 1 and batch_size = 64, do grid search over the following optimization schemes: ['SGD', 'RMSprop', 'Adagrad', 'Adadelta', 'Adam', 'Adamax', 'Nadam']."
   ]
  },
  {
   "cell_type": "code",
   "execution_count": 19,
   "metadata": {
    "scrolled": false
   },
   "outputs": [
    {
     "name": "stdout",
     "output_type": "stream",
     "text": [
      "Epoch 1/1\n",
      "30000/30000 [==============================] - 2s - loss: 1.3619 - acc: 0.5840     \n",
      " 8704/10000 [=========================>....] - ETA: 0sEpoch 1/1\n",
      "30000/30000 [==============================] - 2s - loss: 1.4104 - acc: 0.5765     \n",
      "10000/10000 [==============================] - 0s     \n",
      "Epoch 1/1\n",
      "30000/30000 [==============================] - 2s - loss: 1.3410 - acc: 0.6021     \n",
      " 8640/10000 [========================>.....] - ETA: 0sEpoch 1/1\n",
      "30000/30000 [==============================] - 2s - loss: 1.3519 - acc: 0.5854     \n",
      " 9472/10000 [===========================>..] - ETA: 0sEpoch 1/1\n",
      "30000/30000 [==============================] - 3s - loss: 0.4094 - acc: 0.8785     \n",
      " 8576/10000 [========================>.....] - ETA: 0sEpoch 1/1\n",
      "30000/30000 [==============================] - 3s - loss: 0.4261 - acc: 0.8734     \n",
      "10000/10000 [==============================] - 0s     \n",
      "Epoch 1/1\n",
      "30000/30000 [==============================] - 3s - loss: 0.4136 - acc: 0.8770     \n",
      " 8320/10000 [=======================>......] - ETA: 0sEpoch 1/1\n",
      "30000/30000 [==============================] - 3s - loss: 0.4109 - acc: 0.8772     \n",
      " 9536/10000 [===========================>..] - ETA: 0sEpoch 1/1\n",
      "30000/30000 [==============================] - 3s - loss: 0.3810 - acc: 0.8871     \n",
      " 9792/10000 [============================>.] - ETA: 0sEpoch 1/1\n",
      "30000/30000 [==============================] - 4s - loss: 0.4054 - acc: 0.8800     \n",
      " 9408/10000 [===========================>..] - ETA: 0sEpoch 1/1\n",
      "30000/30000 [==============================] - 3s - loss: 0.3897 - acc: 0.8859     \n",
      " 9472/10000 [===========================>..] - ETA: 0sEpoch 1/1\n",
      "30000/30000 [==============================] - 3s - loss: 0.3740 - acc: 0.8908     \n",
      " 8896/10000 [=========================>....] - ETA: 0sEpoch 1/1\n",
      "30000/30000 [==============================] - 4s - loss: 0.5779 - acc: 0.8325     \n",
      " 9600/10000 [===========================>..] - ETA: 0sEpoch 1/1\n",
      "30000/30000 [==============================] - 4s - loss: 0.5903 - acc: 0.8283     \n",
      " 9536/10000 [===========================>..] - ETA: 0sEpoch 1/1\n",
      "30000/30000 [==============================] - 4s - loss: 0.5922 - acc: 0.8272     \n",
      " 9792/10000 [============================>.] - ETA: 0sEpoch 1/1\n",
      "30000/30000 [==============================] - 4s - loss: 0.5868 - acc: 0.8263     \n",
      " 9536/10000 [===========================>..] - ETA: 0sEpoch 1/1\n",
      "30000/30000 [==============================] - 3s - loss: 0.4335 - acc: 0.8714     \n",
      " 9472/10000 [===========================>..] - ETA: 0sEpoch 1/1\n",
      "30000/30000 [==============================] - 3s - loss: 0.4325 - acc: 0.8720     \n",
      " 9920/10000 [============================>.] - ETA: 0sEpoch 1/1\n",
      "30000/30000 [==============================] - 3s - loss: 0.4304 - acc: 0.8721     \n",
      " 9920/10000 [============================>.] - ETA: 0sEpoch 1/1\n",
      "30000/30000 [==============================] - 4s - loss: 0.4331 - acc: 0.8738     \n",
      " 8896/10000 [=========================>....] - ETA: 0sEpoch 1/1\n",
      "30000/30000 [==============================] - 4s - loss: 0.4957 - acc: 0.8503     \n",
      " 8832/10000 [=========================>....] - ETA: 0sEpoch 1/1\n",
      "30000/30000 [==============================] - 4s - loss: 0.4870 - acc: 0.8600     \n",
      " 8960/10000 [=========================>....] - ETA: 0sEpoch 1/1\n",
      "30000/30000 [==============================] - 4s - loss: 0.4666 - acc: 0.8621     \n",
      " 9472/10000 [===========================>..] - ETA: 0sEpoch 1/1\n",
      "30000/30000 [==============================] - 4s - loss: 0.4746 - acc: 0.8600     \n",
      " 8640/10000 [========================>.....] - ETA: 0sEpoch 1/1\n",
      "30000/30000 [==============================] - 4s - loss: 0.3560 - acc: 0.8937     \n",
      " 9344/10000 [===========================>..] - ETA: 0sEpoch 1/1\n",
      "30000/30000 [==============================] - 5s - loss: 0.3574 - acc: 0.8940     \n",
      " 9216/10000 [==========================>...] - ETA: 0sEpoch 1/1\n",
      "30000/30000 [==============================] - 5s - loss: 0.3620 - acc: 0.8925     \n",
      " 9600/10000 [===========================>..] - ETA: 0sEpoch 1/1\n",
      "30000/30000 [==============================] - 4s - loss: 0.3661 - acc: 0.8922     \n",
      " 9152/10000 [==========================>...] - ETA: 0sEpoch 1/1\n",
      "40000/40000 [==============================] - 5s - loss: 0.3201 - acc: 0.9064     \n"
     ]
    }
   ],
   "source": [
    "from sklearn.model_selection import GridSearchCV\n",
    "from keras.wrappers.scikit_learn import KerasClassifier\n",
    "\n",
    "batch_size = 64\n",
    "epochs = 1\n",
    "model_gridsearch = KerasClassifier(build_fn=create_DNN, \n",
    "                        epochs=epochs, batch_size=batch_size, verbose=1)\n",
    "\n",
    "# list of allowed optional arguments for the optimizer, see `compile_model()`\n",
    "optimizer = ['SGD', 'RMSprop', 'Adagrad', 'Adadelta', 'Adam', 'Adamax', 'Nadam']\n",
    "# define parameter dictionary\n",
    "param_grid = dict(optimizer=optimizer)\n",
    "\n",
    "# call scikit grid search module\n",
    "grid = GridSearchCV(estimator=model_gridsearch, param_grid=param_grid, n_jobs=1, cv=4)\n",
    "grid_result = grid.fit(X_train,Y_train)"
   ]
  },
  {
   "cell_type": "markdown",
   "metadata": {},
   "source": [
    "Show the mean test score of all optimization schemes and determine which scheme gives the best accuracy."
   ]
  },
  {
   "cell_type": "code",
   "execution_count": 20,
   "metadata": {},
   "outputs": [
    {
     "name": "stdout",
     "output_type": "stream",
     "text": [
      "Best: 0.951900 using {'optimizer': 'Nadam'}\n",
      "0.850650 (0.013675) with: {'optimizer': 'SGD'}\n",
      "0.946125 (0.001404) with: {'optimizer': 'RMSprop'}\n",
      "0.946725 (0.003144) with: {'optimizer': 'Adagrad'}\n",
      "0.925775 (0.002659) with: {'optimizer': 'Adadelta'}\n",
      "0.946750 (0.001861) with: {'optimizer': 'Adam'}\n",
      "0.935300 (0.002652) with: {'optimizer': 'Adamax'}\n",
      "0.951900 (0.003367) with: {'optimizer': 'Nadam'}\n"
     ]
    }
   ],
   "source": [
    "# summarize results\n",
    "print(\"Best: %f using %s\" % (grid_result.best_score_, grid_result.best_params_))\n",
    "means = grid_result.cv_results_['mean_test_score']\n",
    "stds = grid_result.cv_results_['std_test_score']\n",
    "params = grid_result.cv_results_['params']\n",
    "for mean, stdev, param in zip(means, stds, params):\n",
    "    print(\"%f (%f) with: %r\" % (mean, stdev, param))"
   ]
  },
  {
   "cell_type": "markdown",
   "metadata": {},
   "source": [
    "<span style=\"color:blue\"> <i>Then we create a DNN with one Dense layer having 200 output neurons. We do the grid search over any 5 different activation functions from https://keras.io/activations/. Let epochs = 1, batches = 64, p_dropout=0.5, and optimizer=keras.optimizers.Adam().  </i></span> <br>"
   ]
  },
  {
   "cell_type": "code",
   "execution_count": 16,
   "metadata": {},
   "outputs": [
    {
     "name": "stdout",
     "output_type": "stream",
     "text": [
      "Epoch 1/1\n",
      "30000/30000 [==============================] - 3s - loss: 0.4175 - acc: 0.8755     \n",
      " 9984/10000 [============================>.] - ETA: 0sEpoch 1/1\n",
      "30000/30000 [==============================] - 3s - loss: 0.4101 - acc: 0.8786     \n",
      " 9792/10000 [============================>.] - ETA: 0sEpoch 1/1\n",
      "30000/30000 [==============================] - 3s - loss: 0.4028 - acc: 0.8812     \n",
      " 9920/10000 [============================>.] - ETA: 0sEpoch 1/1\n",
      "30000/30000 [==============================] - 3s - loss: 0.4110 - acc: 0.8802     \n",
      " 9792/10000 [============================>.] - ETA: 0sEpoch 1/1\n",
      "30000/30000 [==============================] - 3s - loss: 0.4314 - acc: 0.8713     \n",
      " 9664/10000 [===========================>..] - ETA: 0sEpoch 1/1\n",
      "30000/30000 [==============================] - 3s - loss: 0.4294 - acc: 0.8724     \n",
      " 9664/10000 [===========================>..] - ETA: 0sEpoch 1/1\n",
      "30000/30000 [==============================] - 3s - loss: 0.4327 - acc: 0.8704     \n",
      " 9024/10000 [==========================>...] - ETA: 0sEpoch 1/1\n",
      "30000/30000 [==============================] - 3s - loss: 0.4223 - acc: 0.8724     \n",
      "10000/10000 [==============================] - 0s     \n",
      "Epoch 1/1\n",
      "30000/30000 [==============================] - 4s - loss: 0.4344 - acc: 0.8708     \n",
      " 8640/10000 [========================>.....] - ETA: 0sEpoch 1/1\n",
      "30000/30000 [==============================] - 3s - loss: 0.4264 - acc: 0.8725     \n",
      "10000/10000 [==============================] - 0s     \n",
      "Epoch 1/1\n",
      "30000/30000 [==============================] - 3s - loss: 0.4252 - acc: 0.8733     \n",
      " 8960/10000 [=========================>....] - ETA: 0sEpoch 1/1\n",
      "30000/30000 [==============================] - 3s - loss: 0.4263 - acc: 0.8732     \n",
      " 9536/10000 [===========================>..] - ETA: 0sEpoch 1/1\n",
      "30000/30000 [==============================] - 3s - loss: 0.6655 - acc: 0.8025     \n",
      " 9152/10000 [==========================>...] - ETA: 0sEpoch 1/1\n",
      "30000/30000 [==============================] - 3s - loss: 0.6577 - acc: 0.8015     \n",
      " 9024/10000 [==========================>...] - ETA: 0sEpoch 1/1\n",
      "30000/30000 [==============================] - 3s - loss: 0.6558 - acc: 0.8032     \n",
      " 8512/10000 [========================>.....] - ETA: 0sEpoch 1/1\n",
      "30000/30000 [==============================] - 3s - loss: 0.6577 - acc: 0.8023     \n",
      " 9856/10000 [============================>.] - ETA: 0sEpoch 1/1\n",
      "30000/30000 [==============================] - 3s - loss: 1.9461 - acc: 0.4915     \n",
      " 8960/10000 [=========================>....] - ETA: 0sEpoch 1/1\n",
      "30000/30000 [==============================] - 3s - loss: 1.9551 - acc: 0.4427     \n",
      " 8576/10000 [========================>.....] - ETA: 0sEpoch 1/1\n",
      "30000/30000 [==============================] - 3s - loss: 1.9426 - acc: 0.4881     \n",
      "10000/10000 [==============================] - 0s     \n",
      "Epoch 1/1\n",
      "30000/30000 [==============================] - 3s - loss: 1.9461 - acc: 0.5048     \n",
      " 8768/10000 [=========================>....] - ETA: 0sEpoch 1/1\n",
      "40000/40000 [==============================] - 4s - loss: 0.3700 - acc: 0.8905     \n"
     ]
    }
   ],
   "source": [
    "from sklearn.model_selection import GridSearchCV\n",
    "from keras.wrappers.scikit_learn import KerasClassifier\n",
    "\n",
    "\n",
    "activation = ['relu', 'tanh', 'elu', 'sigmoid', 'softmax']\n",
    "def create_DNN_2(activation=activation):\n",
    "    model = Sequential()\n",
    "    model.add(Dense(400,input_shape=(img_rows*img_cols,), activation=activation))\n",
    "    model.add(Dropout(0.5))\n",
    "    model.add(Dense(num_classes, activation='softmax'))\n",
    "    model.compile(loss=keras.losses.categorical_crossentropy,\n",
    "              optimizer=keras.optimizers.Adam(),\n",
    "              metrics=['accuracy'])\n",
    "    return model\n",
    "    \n",
    "batch_size = 64\n",
    "epochs = 1\n",
    "model_gridsearch = KerasClassifier(build_fn=create_DNN_2, \n",
    "                        epochs=epochs, batch_size=batch_size, verbose=1)\n",
    "\n",
    "# define parameter dictionary\n",
    "param_grid = dict(activation=activation)\n",
    "\n",
    "# call scikit grid search module\n",
    "grid = GridSearchCV(estimator=model_gridsearch, param_grid=param_grid, n_jobs=1, cv=4)\n",
    "grid_result = grid.fit(X_train,Y_train)   \n",
    "    \n",
    "    \n",
    "\n"
   ]
  },
  {
   "cell_type": "code",
   "execution_count": 17,
   "metadata": {},
   "outputs": [
    {
     "name": "stdout",
     "output_type": "stream",
     "text": [
      "Best: 0.939825 using {'activation': 'relu'}\n",
      "0.939825 (0.002309) with: {'activation': 'relu'}\n",
      "0.915075 (0.006569) with: {'activation': 'tanh'}\n",
      "0.912975 (0.003839) with: {'activation': 'elu'}\n",
      "0.901950 (0.003238) with: {'activation': 'sigmoid'}\n",
      "0.805725 (0.056667) with: {'activation': 'softmax'}\n"
     ]
    }
   ],
   "source": [
    "print(\"Best: %f using %s\" % (grid_result.best_score_, grid_result.best_params_))\n",
    "means = grid_result.cv_results_['mean_test_score']\n",
    "stds = grid_result.cv_results_['std_test_score']\n",
    "params = grid_result.cv_results_['params']\n",
    "for mean, stdev, param in zip(means, stds, params):\n",
    "    print(\"%f (%f) with: %r\" % (mean, stdev, param))"
   ]
  },
  {
   "cell_type": "markdown",
   "metadata": {},
   "source": [
    "<span style=\"color:blue\"> <i> Now, do the grid search over different combination of batch sizes (10, 30, 50, 100) and number of epochs (1, 2, 5). We use the activation function that gave us the highest accuracy.  </i></span> <br>"
   ]
  },
  {
   "cell_type": "code",
   "execution_count": 7,
   "metadata": {},
   "outputs": [],
   "source": [
    "from sklearn.model_selection import GridSearchCV\n",
    "from keras.wrappers.scikit_learn import KerasClassifier"
   ]
  },
  {
   "cell_type": "code",
   "execution_count": 7,
   "metadata": {},
   "outputs": [],
   "source": [
    "def create_DNN_4(activation='relu'):\n",
    "    model = Sequential()\n",
    "    model.add(Dense(20,input_shape=(img_rows*img_cols,), activation=activation))\n",
    "    model.add(Dropout(0.5))\n",
    "    model.add(Dense(num_classes, activation='softmax'))\n",
    "    model.compile(loss=keras.losses.categorical_crossentropy,\n",
    "              optimizer=keras.optimizers.Adam(),\n",
    "              metrics=['accuracy'])\n",
    "    return model\n",
    "\n"
   ]
  },
  {
   "cell_type": "code",
   "execution_count": 6,
   "metadata": {},
   "outputs": [
    {
     "name": "stdout",
     "output_type": "stream",
     "text": [
      "WARNING:tensorflow:From /srv/app/venv/lib/python3.6/site-packages/keras/backend/tensorflow_backend.py:442: The name tf.placeholder is deprecated. Please use tf.compat.v1.placeholder instead.\n",
      "\n",
      "WARNING:tensorflow:From /srv/app/venv/lib/python3.6/site-packages/keras/backend/tensorflow_backend.py:3543: The name tf.random_uniform is deprecated. Please use tf.random.uniform instead.\n",
      "\n",
      "WARNING:tensorflow:From /srv/app/venv/lib/python3.6/site-packages/keras/backend/tensorflow_backend.py:2888: calling dropout (from tensorflow.python.ops.nn_ops) with keep_prob is deprecated and will be removed in a future version.\n",
      "Instructions for updating:\n",
      "Please use `rate` instead of `keep_prob`. Rate should be set to `rate = 1 - keep_prob`.\n",
      "WARNING:tensorflow:From /srv/app/venv/lib/python3.6/site-packages/keras/optimizers.py:711: The name tf.train.Optimizer is deprecated. Please use tf.compat.v1.train.Optimizer instead.\n",
      "\n",
      "WARNING:tensorflow:From /srv/app/venv/lib/python3.6/site-packages/keras/backend/tensorflow_backend.py:2755: calling reduce_sum_v1 (from tensorflow.python.ops.math_ops) with keep_dims is deprecated and will be removed in a future version.\n",
      "Instructions for updating:\n",
      "keep_dims is deprecated, use keepdims instead\n",
      "WARNING:tensorflow:From /srv/app/venv/lib/python3.6/site-packages/keras/backend/tensorflow_backend.py:2759: The name tf.log is deprecated. Please use tf.math.log instead.\n",
      "\n",
      "WARNING:tensorflow:From /srv/app/venv/lib/python3.6/site-packages/tensorflow_core/python/ops/math_grad.py:1424: where (from tensorflow.python.ops.array_ops) is deprecated and will be removed in a future version.\n",
      "Instructions for updating:\n",
      "Use tf.where in 2.0, which has the same broadcast rule as np.where\n",
      "WARNING:tensorflow:From /srv/app/venv/lib/python3.6/site-packages/keras/backend/tensorflow_backend.py:899: The name tf.assign_add is deprecated. Please use tf.compat.v1.assign_add instead.\n",
      "\n",
      "WARNING:tensorflow:From /srv/app/venv/lib/python3.6/site-packages/keras/backend/tensorflow_backend.py:625: calling Constant.__init__ (from tensorflow.python.ops.init_ops) with dtype is deprecated and will be removed in a future version.\n",
      "Instructions for updating:\n",
      "Call initializer instance with the dtype argument instead of passing it to the constructor\n",
      "WARNING:tensorflow:From /srv/app/venv/lib/python3.6/site-packages/keras/backend/tensorflow_backend.py:886: The name tf.assign is deprecated. Please use tf.compat.v1.assign instead.\n",
      "\n",
      "WARNING:tensorflow:From /srv/app/venv/lib/python3.6/site-packages/keras/backend/tensorflow_backend.py:2294: The name tf.Session is deprecated. Please use tf.compat.v1.Session instead.\n",
      "\n",
      "Epoch 1/1\n",
      "WARNING:tensorflow:From /srv/app/venv/lib/python3.6/site-packages/keras/backend/tensorflow_backend.py:153: The name tf.get_default_session is deprecated. Please use tf.compat.v1.get_default_session instead.\n",
      "\n",
      "WARNING:tensorflow:From /srv/app/venv/lib/python3.6/site-packages/keras/backend/tensorflow_backend.py:158: The name tf.ConfigProto is deprecated. Please use tf.compat.v1.ConfigProto instead.\n",
      "\n",
      "WARNING:tensorflow:From /srv/app/venv/lib/python3.6/site-packages/keras/backend/tensorflow_backend.py:333: The name tf.global_variables is deprecated. Please use tf.compat.v1.global_variables instead.\n",
      "\n",
      "WARNING:tensorflow:From /srv/app/venv/lib/python3.6/site-packages/keras/backend/tensorflow_backend.py:341: The name tf.variables_initializer is deprecated. Please use tf.compat.v1.variables_initializer instead.\n",
      "\n",
      "26666/26666 [==============================] - 5s - loss: 1.0885 - acc: 0.6252     \n",
      "13240/13334 [============================>.] - ETA: 0sEpoch 1/1\n",
      "26667/26667 [==============================] - 6s - loss: 1.0112 - acc: 0.6594     \n",
      "13250/13333 [============================>.] - ETA: 0sEpoch 1/1\n",
      "26667/26667 [==============================] - 6s - loss: 1.0524 - acc: 0.6327     \n",
      "13110/13333 [============================>.] - ETA: 0sEpoch 1/2\n",
      "26666/26666 [==============================] - 6s - loss: 1.0427 - acc: 0.6350     \n",
      "Epoch 2/2\n",
      "26666/26666 [==============================] - 6s - loss: 0.8033 - acc: 0.7200     \n",
      "13150/13334 [============================>.] - ETA: 0sEpoch 1/2\n",
      "26667/26667 [==============================] - 7s - loss: 0.9566 - acc: 0.6793     \n",
      "Epoch 2/2\n",
      "26667/26667 [==============================] - 7s - loss: 0.7262 - acc: 0.7580     \n",
      "13040/13333 [============================>.] - ETA: 0sEpoch 1/2\n",
      "26667/26667 [==============================] - 8s - loss: 0.9820 - acc: 0.6577     \n",
      "Epoch 2/2\n",
      "26667/26667 [==============================] - 6s - loss: 0.7425 - acc: 0.7398     \n",
      "13070/13333 [============================>.] - ETA: 0sEpoch 1/5\n",
      "26666/26666 [==============================] - 6s - loss: 1.0201 - acc: 0.6517     \n",
      "Epoch 2/5\n",
      "26666/26666 [==============================] - 6s - loss: 0.7666 - acc: 0.7409     \n",
      "Epoch 3/5\n",
      "26666/26666 [==============================] - 6s - loss: 0.7082 - acc: 0.7579     \n",
      "Epoch 4/5\n",
      "26666/26666 [==============================] - 7s - loss: 0.6932 - acc: 0.7652     \n",
      "Epoch 5/5\n",
      "26666/26666 [==============================] - 7s - loss: 0.6669 - acc: 0.7738     \n",
      "13100/13334 [============================>.] - ETA: 0sEpoch 1/5\n",
      "26667/26667 [==============================] - 6s - loss: 1.0573 - acc: 0.6351     \n",
      "Epoch 2/5\n",
      "26667/26667 [==============================] - 5s - loss: 0.7763 - acc: 0.7332     \n",
      "Epoch 3/5\n",
      "26667/26667 [==============================] - 5s - loss: 0.7248 - acc: 0.7486     \n",
      "Epoch 4/5\n",
      "26667/26667 [==============================] - 6s - loss: 0.7008 - acc: 0.7584     \n",
      "Epoch 5/5\n",
      "26667/26667 [==============================] - 5s - loss: 0.6584 - acc: 0.7714     \n",
      "13170/13333 [============================>.] - ETA: 0sEpoch 1/5\n",
      "26667/26667 [==============================] - 6s - loss: 0.9952 - acc: 0.6566     \n",
      "Epoch 2/5\n",
      "26667/26667 [==============================] - 5s - loss: 0.7565 - acc: 0.7348     \n",
      "Epoch 3/5\n",
      "26667/26667 [==============================] - 5s - loss: 0.7064 - acc: 0.7509     \n",
      "Epoch 4/5\n",
      "26667/26667 [==============================] - 5s - loss: 0.6842 - acc: 0.7579     \n",
      "Epoch 5/5\n",
      "26667/26667 [==============================] - 5s - loss: 0.6735 - acc: 0.7642     \n",
      "13220/13333 [============================>.] - ETA: 0sEpoch 1/1\n",
      "26666/26666 [==============================] - 2s - loss: 1.1108 - acc: 0.6239     \n",
      "12120/13334 [==========================>...] - ETA: 0sEpoch 1/1\n",
      "26667/26667 [==============================] - 2s - loss: 1.0903 - acc: 0.6290     \n",
      "12930/13333 [============================>.] - ETA: 0sEpoch 1/1\n",
      "26667/26667 [==============================] - 2s - loss: 1.1248 - acc: 0.6162     \n",
      "13050/13333 [============================>.] - ETA: 0sEpoch 1/2\n",
      "26666/26666 [==============================] - 2s - loss: 1.1318 - acc: 0.6122     \n",
      "Epoch 2/2\n",
      "26666/26666 [==============================] - 2s - loss: 0.7706 - acc: 0.7431     \n",
      "12630/13334 [===========================>..] - ETA: 0sEpoch 1/2\n",
      "26667/26667 [==============================] - 2s - loss: 1.0979 - acc: 0.6283     \n",
      "Epoch 2/2\n",
      "26667/26667 [==============================] - 2s - loss: 0.8041 - acc: 0.7340     \n",
      "12360/13333 [==========================>...] - ETA: 0sEpoch 1/2\n",
      "26667/26667 [==============================] - 2s - loss: 1.0983 - acc: 0.6216     \n",
      "Epoch 2/2\n",
      "26667/26667 [==============================] - 2s - loss: 0.7754 - acc: 0.7368     \n",
      "12660/13333 [===========================>..] - ETA: 0sEpoch 1/5\n",
      "26666/26666 [==============================] - 2s - loss: 1.0990 - acc: 0.6216     \n",
      "Epoch 2/5\n",
      "26666/26666 [==============================] - 2s - loss: 0.7776 - acc: 0.7312     \n",
      "Epoch 3/5\n",
      "26666/26666 [==============================] - 2s - loss: 0.7108 - acc: 0.7507     \n",
      "Epoch 4/5\n",
      "26666/26666 [==============================] - 2s - loss: 0.6849 - acc: 0.7613     \n",
      "Epoch 5/5\n",
      "26666/26666 [==============================] - 2s - loss: 0.6619 - acc: 0.7684     \n",
      "12510/13334 [===========================>..] - ETA: 0sEpoch 1/5\n",
      "26667/26667 [==============================] - 3s - loss: 1.1177 - acc: 0.6188     \n",
      "Epoch 2/5\n",
      "26667/26667 [==============================] - 2s - loss: 0.7793 - acc: 0.7369     \n",
      "Epoch 3/5\n",
      "26667/26667 [==============================] - 2s - loss: 0.7115 - acc: 0.7591     \n",
      "Epoch 4/5\n",
      "26667/26667 [==============================] - 2s - loss: 0.6784 - acc: 0.7698     \n",
      "Epoch 5/5\n",
      "26667/26667 [==============================] - 2s - loss: 0.6590 - acc: 0.7782     \n",
      "12300/13333 [==========================>...] - ETA: 0sEpoch 1/5\n",
      "26667/26667 [==============================] - 3s - loss: 1.1299 - acc: 0.6106     \n",
      "Epoch 2/5\n",
      "26667/26667 [==============================] - 2s - loss: 0.7844 - acc: 0.7385     \n",
      "Epoch 3/5\n",
      "26667/26667 [==============================] - 2s - loss: 0.7181 - acc: 0.7548     \n",
      "Epoch 4/5\n",
      "26667/26667 [==============================] - 2s - loss: 0.6949 - acc: 0.7618     \n",
      "Epoch 5/5\n",
      "26667/26667 [==============================] - 2s - loss: 0.6615 - acc: 0.7689     \n",
      "13320/13333 [============================>.] - ETA: 0sEpoch 1/1\n",
      "26666/26666 [==============================] - 2s - loss: 1.1888 - acc: 0.5924     \n",
      "12000/13334 [=========================>....] - ETA: 0sEpoch 1/1\n",
      "26667/26667 [==============================] - 2s - loss: 1.2647 - acc: 0.5690     \n",
      "11750/13333 [=========================>....] - ETA: 0sEpoch 1/1\n",
      "26667/26667 [==============================] - 2s - loss: 1.1487 - acc: 0.6080     \n",
      "11650/13333 [=========================>....] - ETA: 0sEpoch 1/2\n",
      "26666/26666 [==============================] - 2s - loss: 1.1654 - acc: 0.6067     \n",
      "Epoch 2/2\n",
      "26666/26666 [==============================] - 1s - loss: 0.8040 - acc: 0.7272     \n",
      "13334/13334 [==============================] - 0s     \n",
      "Epoch 1/2\n",
      "26667/26667 [==============================] - 2s - loss: 1.1370 - acc: 0.6134     \n",
      "Epoch 2/2\n",
      "26667/26667 [==============================] - 1s - loss: 0.7788 - acc: 0.7338     \n",
      "13100/13333 [============================>.] - ETA: 0sEpoch 1/2\n",
      "26667/26667 [==============================] - 2s - loss: 1.2458 - acc: 0.5773     \n",
      "Epoch 2/2\n",
      "26667/26667 [==============================] - 1s - loss: 0.8332 - acc: 0.7144     \n",
      "12050/13333 [==========================>...] - ETA: 0sEpoch 1/5\n",
      "26666/26666 [==============================] - 2s - loss: 1.3159 - acc: 0.5541     \n",
      "Epoch 2/5\n",
      "26666/26666 [==============================] - 1s - loss: 0.8535 - acc: 0.7122     \n",
      "Epoch 3/5\n",
      "26666/26666 [==============================] - 1s - loss: 0.7686 - acc: 0.7394     \n",
      "Epoch 4/5\n",
      "26666/26666 [==============================] - 1s - loss: 0.7337 - acc: 0.7497     \n",
      "Epoch 5/5\n",
      "26666/26666 [==============================] - 1s - loss: 0.7095 - acc: 0.7595     \n",
      "13250/13334 [============================>.] - ETA: 0sEpoch 1/5\n",
      "26667/26667 [==============================] - 2s - loss: 1.2130 - acc: 0.5834     \n",
      "Epoch 2/5\n",
      "26667/26667 [==============================] - 1s - loss: 0.8233 - acc: 0.7215     \n",
      "Epoch 3/5\n",
      "26667/26667 [==============================] - 1s - loss: 0.7401 - acc: 0.7472     \n",
      "Epoch 4/5\n",
      "26667/26667 [==============================] - 1s - loss: 0.7174 - acc: 0.7555     \n",
      "Epoch 5/5\n",
      "26667/26667 [==============================] - 1s - loss: 0.6933 - acc: 0.7588     \n",
      "12450/13333 [===========================>..] - ETA: 0sEpoch 1/5\n",
      "26667/26667 [==============================] - 2s - loss: 1.1664 - acc: 0.6037     \n",
      "Epoch 2/5\n",
      "26667/26667 [==============================] - 1s - loss: 0.8070 - acc: 0.7290     \n",
      "Epoch 3/5\n",
      "26667/26667 [==============================] - 1s - loss: 0.7311 - acc: 0.7482     \n",
      "Epoch 4/5\n",
      "26667/26667 [==============================] - 1s - loss: 0.6971 - acc: 0.7587     \n",
      "Epoch 5/5\n",
      "26667/26667 [==============================] - 1s - loss: 0.6729 - acc: 0.7685     \n",
      "12950/13333 [============================>.] - ETA: 0sEpoch 1/1\n",
      "26666/26666 [==============================] - 2s - loss: 1.4479 - acc: 0.4968     \n",
      "12700/13334 [===========================>..] - ETA: 0sEpoch 1/1\n",
      "26667/26667 [==============================] - 2s - loss: 1.3387 - acc: 0.5472     \n",
      "13100/13333 [============================>.] - ETA: 0sEpoch 1/1\n",
      "26667/26667 [==============================] - 2s - loss: 1.3805 - acc: 0.5238     \n",
      "12700/13333 [===========================>..] - ETA: 0sEpoch 1/2\n",
      "26666/26666 [==============================] - 2s - loss: 1.2862 - acc: 0.5696     \n",
      "Epoch 2/2\n",
      "26666/26666 [==============================] - 0s - loss: 0.8834 - acc: 0.7095     \n",
      "13000/13334 [============================>.] - ETA: 0sEpoch 1/2\n",
      "26667/26667 [==============================] - 2s - loss: 1.3864 - acc: 0.5179     \n",
      "Epoch 2/2\n",
      "26667/26667 [==============================] - 1s - loss: 0.8875 - acc: 0.7083     \n",
      "12400/13333 [==========================>...] - ETA: 0sEpoch 1/2\n",
      "26667/26667 [==============================] - 2s - loss: 1.3541 - acc: 0.5374     \n",
      "Epoch 2/2\n",
      "26667/26667 [==============================] - 0s - loss: 0.8903 - acc: 0.7135     \n",
      "12400/13333 [==========================>...] - ETA: 0sEpoch 1/5\n",
      "26666/26666 [==============================] - 2s - loss: 1.4029 - acc: 0.5172     \n",
      "Epoch 2/5\n",
      "26666/26666 [==============================] - 0s - loss: 0.9081 - acc: 0.6956     \n",
      "Epoch 3/5\n",
      "26666/26666 [==============================] - 0s - loss: 0.8189 - acc: 0.7229     \n",
      "Epoch 4/5\n",
      "26666/26666 [==============================] - 0s - loss: 0.7604 - acc: 0.7451     \n",
      "Epoch 5/5\n",
      "26666/26666 [==============================] - 0s - loss: 0.7284 - acc: 0.7509     \n",
      "13000/13334 [============================>.] - ETA: 0sEpoch 1/5\n",
      "26667/26667 [==============================] - 2s - loss: 1.3399 - acc: 0.5435     \n",
      "Epoch 2/5\n",
      "26667/26667 [==============================] - 0s - loss: 0.8651 - acc: 0.7129     \n",
      "Epoch 3/5\n",
      "26667/26667 [==============================] - 0s - loss: 0.7904 - acc: 0.7366     \n",
      "Epoch 4/5\n",
      "26667/26667 [==============================] - 0s - loss: 0.7430 - acc: 0.7481     \n",
      "Epoch 5/5\n",
      "26667/26667 [==============================] - 0s - loss: 0.7086 - acc: 0.7637     \n",
      "12600/13333 [===========================>..] - ETA: 0sEpoch 1/5\n",
      "26667/26667 [==============================] - 2s - loss: 1.3300 - acc: 0.5352     \n",
      "Epoch 2/5\n",
      "26667/26667 [==============================] - 0s - loss: 0.8727 - acc: 0.7068     \n",
      "Epoch 3/5\n",
      "26667/26667 [==============================] - 0s - loss: 0.7711 - acc: 0.7359     \n",
      "Epoch 4/5\n",
      "26667/26667 [==============================] - 0s - loss: 0.7259 - acc: 0.7553     \n",
      "Epoch 5/5\n",
      "26667/26667 [==============================] - 0s - loss: 0.6968 - acc: 0.7624     \n",
      "12200/13333 [==========================>...] - ETA: 0sEpoch 1/5\n",
      "40000/40000 [==============================] - 13s - loss: 0.9069 - acc: 0.6897    \n",
      "Epoch 2/5\n",
      "40000/40000 [==============================] - 10s - loss: 0.7031 - acc: 0.7599    \n",
      "Epoch 3/5\n",
      "40000/40000 [==============================] - 10s - loss: 0.6689 - acc: 0.7727    \n",
      "Epoch 4/5\n",
      "40000/40000 [==============================] - 10s - loss: 0.6472 - acc: 0.7788    \n",
      "Epoch 5/5\n",
      "40000/40000 [==============================] - 10s - loss: 0.6359 - acc: 0.7823    \n",
      "Best: 0.914275 using {'activation': 'relu', 'batch_size': 10, 'epochs': 5}\n"
     ]
    }
   ],
   "source": [
    "act = ['relu', 'tanh', 'elu', 'sigmoid', 'softmax']\n",
    "\n",
    "\n",
    "model_gridsearch = KerasClassifier(build_fn=create_DNN_4, verbose=1)\n",
    "\n",
    "    # define parameter dictionary\n",
    "\n",
    "batch_size = [10, 30, 50, 100]\n",
    "epochs = [1, 2, 5]\n",
    "activation = ['relu']\n",
    "\n",
    "param_grid = dict(batch_size=batch_size, epochs=epochs, activation = activation)\n",
    "\n",
    "    # call scikit grid search module\n",
    "grid = GridSearchCV(estimator=model_gridsearch, param_grid=param_grid, cv=3)\n",
    "grid_result = grid.fit(X_train,Y_train)\n",
    "    \n",
    "Score_relu = [grid_result.best_score_, grid_result.best_params_]\n",
    "    \n",
    "print(\"Best: %f using %s\" % (grid_result.best_score_, grid_result.best_params_))\n",
    "means_relu = grid_result.cv_results_['mean_test_score']\n",
    "stds_relu = grid_result.cv_results_['std_test_score']\n",
    "params_relu = grid_result.cv_results_['params']\n",
    "\n"
   ]
  },
  {
   "cell_type": "code",
   "execution_count": 14,
   "metadata": {},
   "outputs": [
    {
     "name": "stdout",
     "output_type": "stream",
     "text": [
      "means test score of each case with relu\n",
      "0.889925 (0.004422) with: {'activation': 'relu', 'batch_size': 10, 'epochs': 1}\n",
      "0.903850 (0.002809) with: {'activation': 'relu', 'batch_size': 10, 'epochs': 2}\n",
      "0.914275 (0.001474) with: {'activation': 'relu', 'batch_size': 10, 'epochs': 5}\n",
      "0.886175 (0.006052) with: {'activation': 'relu', 'batch_size': 30, 'epochs': 1}\n",
      "0.903750 (0.002217) with: {'activation': 'relu', 'batch_size': 30, 'epochs': 2}\n",
      "0.913800 (0.002882) with: {'activation': 'relu', 'batch_size': 30, 'epochs': 5}\n",
      "0.876300 (0.008576) with: {'activation': 'relu', 'batch_size': 50, 'epochs': 1}\n",
      "0.897000 (0.006627) with: {'activation': 'relu', 'batch_size': 50, 'epochs': 2}\n",
      "0.908025 (0.002607) with: {'activation': 'relu', 'batch_size': 50, 'epochs': 5}\n",
      "0.864050 (0.005912) with: {'activation': 'relu', 'batch_size': 100, 'epochs': 1}\n",
      "0.889475 (0.002531) with: {'activation': 'relu', 'batch_size': 100, 'epochs': 2}\n",
      "0.908125 (0.000744) with: {'activation': 'relu', 'batch_size': 100, 'epochs': 5}\n"
     ]
    }
   ],
   "source": [
    "print('means test score of each case with relu')\n",
    "for mean, stdev, param in zip(means_relu, stds_relu, params_relu):\n",
    "    print(\"%f (%f) with: %r\" % (mean, stdev, param))"
   ]
  },
  {
   "cell_type": "code",
   "execution_count": 12,
   "metadata": {},
   "outputs": [
    {
     "name": "stdout",
     "output_type": "stream",
     "text": [
      "Best with 'relu': 0.914275 using 0.9142749927327037\n"
     ]
    }
   ],
   "source": [
    "print(\"Best with %r: %f using %s\" % ('relu', Score_relu[0], Score_relu[0]))"
   ]
  },
  {
   "cell_type": "code",
   "execution_count": 15,
   "metadata": {},
   "outputs": [
    {
     "name": "stdout",
     "output_type": "stream",
     "text": [
      "Epoch 1/1\n",
      "26666/26666 [==============================] - 11s - loss: 0.7821 - acc: 0.7699    \n",
      "13270/13334 [============================>.] - ETA: 0sEpoch 1/1\n",
      "26667/26667 [==============================] - 10s - loss: 0.7523 - acc: 0.7830    \n",
      "13220/13333 [============================>.] - ETA: 0sEpoch 1/1\n",
      "26667/26667 [==============================] - 10s - loss: 0.7649 - acc: 0.7762    \n",
      "13010/13333 [============================>.] - ETA: 0sEpoch 1/2\n",
      "26666/26666 [==============================] - 9s - loss: 0.7577 - acc: 0.7792     \n",
      "Epoch 2/2\n",
      "26666/26666 [==============================] - 8s - loss: 0.5311 - acc: 0.8409     \n",
      "13130/13334 [============================>.] - ETA: 0sEpoch 1/2\n",
      "26667/26667 [==============================] - 9s - loss: 0.7438 - acc: 0.7841     \n",
      "Epoch 2/2\n",
      "26667/26667 [==============================] - 7s - loss: 0.5241 - acc: 0.8434     \n",
      "13210/13333 [============================>.] - ETA: 0sEpoch 1/2\n",
      "26667/26667 [==============================] - 9s - loss: 0.7671 - acc: 0.7732     \n",
      "Epoch 2/2\n",
      "26667/26667 [==============================] - 7s - loss: 0.5431 - acc: 0.8385     \n",
      "13020/13333 [============================>.] - ETA: 0sEpoch 1/5\n",
      "26666/26666 [==============================] - 9s - loss: 0.7497 - acc: 0.7790     \n",
      "Epoch 2/5\n",
      "26666/26666 [==============================] - 7s - loss: 0.5347 - acc: 0.8405     \n",
      "Epoch 3/5\n",
      "26666/26666 [==============================] - 8s - loss: 0.5010 - acc: 0.8528     \n",
      "Epoch 4/5\n",
      "26666/26666 [==============================] - 7s - loss: 0.4849 - acc: 0.8548     \n",
      "Epoch 5/5\n",
      "26666/26666 [==============================] - 8s - loss: 0.4785 - acc: 0.8588     \n",
      "13280/13334 [============================>.] - ETA: 0sEpoch 1/5\n",
      "26667/26667 [==============================] - 11s - loss: 0.7449 - acc: 0.7797    \n",
      "Epoch 2/5\n",
      "26667/26667 [==============================] - 6s - loss: 0.5334 - acc: 0.8410     \n",
      "Epoch 3/5\n",
      "26667/26667 [==============================] - 7s - loss: 0.5025 - acc: 0.8498     \n",
      "Epoch 4/5\n",
      "26667/26667 [==============================] - 6s - loss: 0.4861 - acc: 0.8558     \n",
      "Epoch 5/5\n",
      "26667/26667 [==============================] - 6s - loss: 0.4680 - acc: 0.8613     \n",
      "13020/13333 [============================>.] - ETA: 0sEpoch 1/5\n",
      "26667/26667 [==============================] - 8s - loss: 0.7465 - acc: 0.7791     \n",
      "Epoch 2/5\n",
      "26667/26667 [==============================] - 7s - loss: 0.5356 - acc: 0.8414     \n",
      "Epoch 3/5\n",
      "26667/26667 [==============================] - 7s - loss: 0.4982 - acc: 0.8511     \n",
      "Epoch 4/5\n",
      "26667/26667 [==============================] - 7s - loss: 0.4812 - acc: 0.8583     \n",
      "Epoch 5/5\n",
      "26667/26667 [==============================] - 7s - loss: 0.4760 - acc: 0.8587     \n",
      "13333/13333 [==============================] - 3s     \n",
      "Epoch 1/1\n",
      "26666/26666 [==============================] - 4s - loss: 0.8856 - acc: 0.7445     \n",
      "12570/13334 [===========================>..] - ETA: 0sEpoch 1/1\n",
      "26667/26667 [==============================] - 4s - loss: 0.8807 - acc: 0.7500     \n",
      "12330/13333 [==========================>...] - ETA: 0sEpoch 1/1\n",
      "26667/26667 [==============================] - 4s - loss: 0.8932 - acc: 0.7432     \n",
      "12630/13333 [===========================>..] - ETA: 0sEpoch 1/2\n",
      "26666/26666 [==============================] - 4s - loss: 0.8925 - acc: 0.7396     \n",
      "Epoch 2/2\n",
      "26666/26666 [==============================] - 2s - loss: 0.5785 - acc: 0.8277     \n",
      "13020/13334 [============================>.] - ETA: 0sEpoch 1/2\n",
      "26667/26667 [==============================] - 4s - loss: 0.8699 - acc: 0.7453     \n",
      "Epoch 2/2\n",
      "26667/26667 [==============================] - 2s - loss: 0.5638 - acc: 0.8328     \n",
      "12450/13333 [===========================>..] - ETA: 0sEpoch 1/2\n",
      "26667/26667 [==============================] - 4s - loss: 0.8841 - acc: 0.7434     \n",
      "Epoch 2/2\n",
      "26667/26667 [==============================] - 2s - loss: 0.5760 - acc: 0.8330     \n",
      "13170/13333 [============================>.] - ETA: 0sEpoch 1/5\n",
      "26666/26666 [==============================] - 5s - loss: 0.9023 - acc: 0.7378     \n",
      "Epoch 2/5\n",
      "26666/26666 [==============================] - 2s - loss: 0.5654 - acc: 0.8346     \n",
      "Epoch 3/5\n",
      "26666/26666 [==============================] - 2s - loss: 0.5199 - acc: 0.8462     \n",
      "Epoch 4/5\n",
      "26666/26666 [==============================] - 2s - loss: 0.4941 - acc: 0.8536     \n",
      "Epoch 5/5\n",
      "26666/26666 [==============================] - 2s - loss: 0.4885 - acc: 0.8537     \n",
      "13050/13334 [============================>.] - ETA: 0sEpoch 1/5\n",
      "26667/26667 [==============================] - 5s - loss: 0.8575 - acc: 0.7513     \n",
      "Epoch 2/5\n",
      "26667/26667 [==============================] - 3s - loss: 0.5566 - acc: 0.8387     \n",
      "Epoch 3/5\n",
      "26667/26667 [==============================] - 2s - loss: 0.5093 - acc: 0.8511     \n",
      "Epoch 4/5\n",
      "26667/26667 [==============================] - 2s - loss: 0.4882 - acc: 0.8547     \n",
      "Epoch 5/5\n",
      "26667/26667 [==============================] - 3s - loss: 0.4785 - acc: 0.8596     \n",
      "12570/13333 [===========================>..] - ETA: 0sEpoch 1/5\n",
      "26667/26667 [==============================] - 5s - loss: 0.8501 - acc: 0.7580     \n",
      "Epoch 2/5\n",
      "26667/26667 [==============================] - 2s - loss: 0.5569 - acc: 0.8409     \n",
      "Epoch 3/5\n",
      "26667/26667 [==============================] - 2s - loss: 0.5094 - acc: 0.8515     \n",
      "Epoch 4/5\n",
      "26667/26667 [==============================] - 3s - loss: 0.4870 - acc: 0.8574     \n",
      "Epoch 5/5\n",
      "26667/26667 [==============================] - 2s - loss: 0.4645 - acc: 0.8601     \n",
      "12570/13333 [===========================>..] - ETA: 0sEpoch 1/1\n",
      "26666/26666 [==============================] - 4s - loss: 0.9227 - acc: 0.7352     \n",
      "12300/13334 [==========================>...] - ETA: 0sEpoch 1/1\n",
      "26667/26667 [==============================] - 4s - loss: 0.9661 - acc: 0.7143     \n",
      "12550/13333 [===========================>..] - ETA: 0sEpoch 1/1\n",
      "26667/26667 [==============================] - 4s - loss: 0.9547 - acc: 0.7291     \n",
      "12700/13333 [===========================>..] - ETA: 0sEpoch 1/2\n",
      "26666/26666 [==============================] - 4s - loss: 0.9806 - acc: 0.7175     \n",
      "Epoch 2/2\n",
      "26666/26666 [==============================] - 1s - loss: 0.5951 - acc: 0.8272     \n",
      "13050/13334 [============================>.] - ETA: 0sEpoch 1/2\n",
      "26667/26667 [==============================] - 4s - loss: 0.9661 - acc: 0.7220     \n",
      "Epoch 2/2\n",
      "26667/26667 [==============================] - 2s - loss: 0.5989 - acc: 0.8247     \n",
      "12200/13333 [==========================>...] - ETA: 0sEpoch 1/2\n",
      "26667/26667 [==============================] - 4s - loss: 0.9374 - acc: 0.7307     \n",
      "Epoch 2/2\n",
      "26667/26667 [==============================] - 1s - loss: 0.5866 - acc: 0.8316     \n",
      "12550/13333 [===========================>..] - ETA: 0sEpoch 1/5\n",
      "26666/26666 [==============================] - 4s - loss: 0.9939 - acc: 0.7111     \n",
      "Epoch 2/5\n",
      "26666/26666 [==============================] - 2s - loss: 0.6062 - acc: 0.8193     \n",
      "Epoch 3/5\n",
      "26666/26666 [==============================] - 1s - loss: 0.5349 - acc: 0.8416     \n",
      "Epoch 4/5\n",
      "26666/26666 [==============================] - 1s - loss: 0.5057 - acc: 0.8496     \n",
      "Epoch 5/5\n",
      "26666/26666 [==============================] - 1s - loss: 0.4876 - acc: 0.8539     \n",
      "13000/13334 [============================>.] - ETA: 0sEpoch 1/5\n",
      "26667/26667 [==============================] - 4s - loss: 0.9244 - acc: 0.7333     \n",
      "Epoch 2/5\n",
      "26667/26667 [==============================] - 1s - loss: 0.5863 - acc: 0.8300     \n",
      "Epoch 3/5\n",
      "26667/26667 [==============================] - 1s - loss: 0.5290 - acc: 0.8451     \n",
      "Epoch 4/5\n",
      "26667/26667 [==============================] - 1s - loss: 0.5081 - acc: 0.8518     \n",
      "Epoch 5/5\n",
      "26667/26667 [==============================] - 1s - loss: 0.4891 - acc: 0.8581     \n",
      "12500/13333 [===========================>..] - ETA: 0sEpoch 1/5\n",
      "26667/26667 [==============================] - 4s - loss: 0.9277 - acc: 0.7356     \n",
      "Epoch 2/5\n",
      "26667/26667 [==============================] - 2s - loss: 0.5886 - acc: 0.8275     \n",
      "Epoch 3/5\n",
      "26667/26667 [==============================] - 1s - loss: 0.5278 - acc: 0.8434     \n",
      "Epoch 4/5\n",
      "26667/26667 [==============================] - 1s - loss: 0.5088 - acc: 0.8467     \n",
      "Epoch 5/5\n",
      "26667/26667 [==============================] - 1s - loss: 0.4948 - acc: 0.8545     \n",
      "13050/13333 [============================>.] - ETA: 0sEpoch 1/1\n",
      "26666/26666 [==============================] - 4s - loss: 1.0974 - acc: 0.6804     \n",
      "12500/13334 [===========================>..] - ETA: 0sEpoch 1/1\n",
      "26667/26667 [==============================] - 4s - loss: 1.0872 - acc: 0.6835     \n",
      "12200/13333 [==========================>...] - ETA: 0sEpoch 1/1\n",
      "26667/26667 [==============================] - 5s - loss: 1.0719 - acc: 0.6849     \n",
      "12900/13333 [============================>.] - ETA: 0sEpoch 1/2\n",
      "26666/26666 [==============================] - 4s - loss: 1.0879 - acc: 0.6882     \n",
      "Epoch 2/2\n",
      "26666/26666 [==============================] - 1s - loss: 0.6703 - acc: 0.8116     \n",
      "12000/13334 [=========================>....] - ETA: 0sEpoch 1/2\n",
      "26667/26667 [==============================] - 4s - loss: 1.0656 - acc: 0.6962     \n",
      "Epoch 2/2\n",
      "26667/26667 [==============================] - 1s - loss: 0.6512 - acc: 0.8154     \n",
      "11800/13333 [=========================>....] - ETA: 0sEpoch 1/2\n",
      "26667/26667 [==============================] - 4s - loss: 1.1408 - acc: 0.6806     \n",
      "Epoch 2/2\n",
      "26667/26667 [==============================] - 1s - loss: 0.6851 - acc: 0.8080     \n",
      "12500/13333 [===========================>..] - ETA: 0sEpoch 1/5\n",
      "26666/26666 [==============================] - 4s - loss: 1.1071 - acc: 0.6782     \n",
      "Epoch 2/5\n",
      "26666/26666 [==============================] - 1s - loss: 0.6784 - acc: 0.8069     \n",
      "Epoch 3/5\n",
      "26666/26666 [==============================] - 1s - loss: 0.5818 - acc: 0.8316     \n",
      "Epoch 4/5\n",
      "26666/26666 [==============================] - 1s - loss: 0.5369 - acc: 0.8432     \n",
      "Epoch 5/5\n",
      "26666/26666 [==============================] - 1s - loss: 0.5109 - acc: 0.8526     \n",
      "12700/13334 [===========================>..] - ETA: 0sEpoch 1/5\n",
      "26667/26667 [==============================] - 4s - loss: 1.1031 - acc: 0.6831     \n",
      "Epoch 2/5\n",
      "26667/26667 [==============================] - 1s - loss: 0.6521 - acc: 0.8166     \n",
      "Epoch 3/5\n",
      "26667/26667 [==============================] - 1s - loss: 0.5652 - acc: 0.8364     \n",
      "Epoch 4/5\n",
      "26667/26667 [==============================] - 1s - loss: 0.5283 - acc: 0.8450     \n",
      "Epoch 5/5\n",
      "26667/26667 [==============================] - 1s - loss: 0.5072 - acc: 0.8500     \n",
      "13200/13333 [============================>.] - ETA: 0sEpoch 1/5\n",
      "26667/26667 [==============================] - 5s - loss: 1.1064 - acc: 0.6802     \n",
      "Epoch 2/5\n",
      "26667/26667 [==============================] - 1s - loss: 0.6588 - acc: 0.8168     \n",
      "Epoch 3/5\n",
      "26667/26667 [==============================] - 1s - loss: 0.5662 - acc: 0.8383     \n",
      "Epoch 4/5\n",
      "26667/26667 [==============================] - 1s - loss: 0.5210 - acc: 0.8501     \n",
      "Epoch 5/5\n",
      "26667/26667 [==============================] - 1s - loss: 0.5025 - acc: 0.8536     \n",
      "12500/13333 [===========================>..] - ETA: 0sEpoch 1/5\n",
      "40000/40000 [==============================] - 20s - loss: 0.6829 - acc: 0.7963    \n",
      "Epoch 2/5\n",
      "40000/40000 [==============================] - 13s - loss: 0.5148 - acc: 0.8466    \n",
      "Epoch 3/5\n",
      "40000/40000 [==============================] - 13s - loss: 0.4914 - acc: 0.8550    \n",
      "Epoch 4/5\n",
      "40000/40000 [==============================] - 13s - loss: 0.4767 - acc: 0.8598    \n",
      "Epoch 5/5\n",
      "40000/40000 [==============================] - 13s - loss: 0.4629 - acc: 0.8620    \n",
      "Best: 0.913950 using {'activation': 'tanh', 'batch_size': 10, 'epochs': 5}\n"
     ]
    }
   ],
   "source": [
    "act = ['relu', 'tanh', 'elu', 'sigmoid', 'softmax']\n",
    "\n",
    "\n",
    "model_gridsearch = KerasClassifier(build_fn=create_DNN_4, verbose=1)\n",
    "\n",
    "    # define parameter dictionary\n",
    "\n",
    "batch_size = [10, 30, 50, 100]\n",
    "epochs = [1, 2, 5]\n",
    "activation = ['tanh']\n",
    "\n",
    "param_grid = dict(batch_size=batch_size, epochs=epochs, activation = activation)\n",
    "\n",
    "    # call scikit grid search module\n",
    "grid = GridSearchCV(estimator=model_gridsearch, param_grid=param_grid, cv=3)\n",
    "grid_result = grid.fit(X_train,Y_train)\n",
    "    \n",
    "Score_tanh = [grid_result.best_score_, grid_result.best_params_]\n",
    "    \n",
    "print(\"Best: %f using %s\" % (grid_result.best_score_, grid_result.best_params_))\n",
    "means_tanh = grid_result.cv_results_['mean_test_score']\n",
    "stds_tanh = grid_result.cv_results_['std_test_score']\n",
    "params_tanh = grid_result.cv_results_['params']"
   ]
  },
  {
   "cell_type": "code",
   "execution_count": 16,
   "metadata": {},
   "outputs": [
    {
     "name": "stdout",
     "output_type": "stream",
     "text": [
      "means test score of each case with tanh\n",
      "0.898450 (0.003674) with: {'activation': 'tanh', 'batch_size': 10, 'epochs': 1}\n",
      "0.905675 (0.005771) with: {'activation': 'tanh', 'batch_size': 10, 'epochs': 2}\n",
      "0.913950 (0.003750) with: {'activation': 'tanh', 'batch_size': 10, 'epochs': 5}\n",
      "0.891700 (0.005177) with: {'activation': 'tanh', 'batch_size': 30, 'epochs': 1}\n",
      "0.902550 (0.004015) with: {'activation': 'tanh', 'batch_size': 30, 'epochs': 2}\n",
      "0.911550 (0.003491) with: {'activation': 'tanh', 'batch_size': 30, 'epochs': 5}\n",
      "0.883750 (0.007857) with: {'activation': 'tanh', 'batch_size': 50, 'epochs': 1}\n",
      "0.899200 (0.004641) with: {'activation': 'tanh', 'batch_size': 50, 'epochs': 2}\n",
      "0.909975 (0.001752) with: {'activation': 'tanh', 'batch_size': 50, 'epochs': 5}\n",
      "0.875075 (0.007555) with: {'activation': 'tanh', 'batch_size': 100, 'epochs': 1}\n",
      "0.893025 (0.004453) with: {'activation': 'tanh', 'batch_size': 100, 'epochs': 2}\n",
      "0.906900 (0.002931) with: {'activation': 'tanh', 'batch_size': 100, 'epochs': 5}\n"
     ]
    }
   ],
   "source": [
    "print('means test score of each case with tanh')\n",
    "for mean, stdev, param in zip(means_tanh, stds_tanh, params_tanh):\n",
    "    print(\"%f (%f) with: %r\" % (mean, stdev, param))"
   ]
  },
  {
   "cell_type": "code",
   "execution_count": 33,
   "metadata": {},
   "outputs": [
    {
     "name": "stdout",
     "output_type": "stream",
     "text": [
      "Best with 'tanh': 0.913950 using 0.913949992544949\n"
     ]
    }
   ],
   "source": [
    "print(\"Best with %r: %f using %s\" % ('tanh', Score_tanh[0], Score_tanh[0]))"
   ]
  },
  {
   "cell_type": "code",
   "execution_count": 8,
   "metadata": {},
   "outputs": [
    {
     "name": "stderr",
     "output_type": "stream",
     "text": [
      "WARNING  | module_wrapper.py:139 | From /srv/app/venv/lib/python3.6/site-packages/keras/backend/tensorflow_backend.py:442: The name tf.placeholder is deprecated. Please use tf.compat.v1.placeholder instead.\n",
      "\n",
      "WARNING  | module_wrapper.py:139 | From /srv/app/venv/lib/python3.6/site-packages/keras/backend/tensorflow_backend.py:3543: The name tf.random_uniform is deprecated. Please use tf.random.uniform instead.\n",
      "\n",
      "WARNING  | deprecation.py:506 | From /srv/app/venv/lib/python3.6/site-packages/keras/backend/tensorflow_backend.py:2888: calling dropout (from tensorflow.python.ops.nn_ops) with keep_prob is deprecated and will be removed in a future version.\n",
      "Instructions for updating:\n",
      "Please use `rate` instead of `keep_prob`. Rate should be set to `rate = 1 - keep_prob`.\n",
      "WARNING  | module_wrapper.py:139 | From /srv/app/venv/lib/python3.6/site-packages/keras/optimizers.py:711: The name tf.train.Optimizer is deprecated. Please use tf.compat.v1.train.Optimizer instead.\n",
      "\n",
      "WARNING  | deprecation.py:506 | From /srv/app/venv/lib/python3.6/site-packages/keras/backend/tensorflow_backend.py:2755: calling reduce_sum_v1 (from tensorflow.python.ops.math_ops) with keep_dims is deprecated and will be removed in a future version.\n",
      "Instructions for updating:\n",
      "keep_dims is deprecated, use keepdims instead\n",
      "WARNING  | module_wrapper.py:139 | From /srv/app/venv/lib/python3.6/site-packages/keras/backend/tensorflow_backend.py:2759: The name tf.log is deprecated. Please use tf.math.log instead.\n",
      "\n",
      "WARNING  | deprecation.py:323 | From /srv/app/venv/lib/python3.6/site-packages/tensorflow_core/python/ops/math_grad.py:1424: where (from tensorflow.python.ops.array_ops) is deprecated and will be removed in a future version.\n",
      "Instructions for updating:\n",
      "Use tf.where in 2.0, which has the same broadcast rule as np.where\n",
      "WARNING  | module_wrapper.py:139 | From /srv/app/venv/lib/python3.6/site-packages/keras/backend/tensorflow_backend.py:899: The name tf.assign_add is deprecated. Please use tf.compat.v1.assign_add instead.\n",
      "\n",
      "WARNING  | deprecation.py:506 | From /srv/app/venv/lib/python3.6/site-packages/keras/backend/tensorflow_backend.py:625: calling Constant.__init__ (from tensorflow.python.ops.init_ops) with dtype is deprecated and will be removed in a future version.\n",
      "Instructions for updating:\n",
      "Call initializer instance with the dtype argument instead of passing it to the constructor\n",
      "WARNING  | module_wrapper.py:139 | From /srv/app/venv/lib/python3.6/site-packages/keras/backend/tensorflow_backend.py:886: The name tf.assign is deprecated. Please use tf.compat.v1.assign instead.\n",
      "\n",
      "WARNING  | module_wrapper.py:139 | From /srv/app/venv/lib/python3.6/site-packages/keras/backend/tensorflow_backend.py:2294: The name tf.Session is deprecated. Please use tf.compat.v1.Session instead.\n",
      "\n",
      "WARNING  | module_wrapper.py:139 | From /srv/app/venv/lib/python3.6/site-packages/keras/backend/tensorflow_backend.py:153: The name tf.get_default_session is deprecated. Please use tf.compat.v1.get_default_session instead.\n",
      "\n",
      "WARNING  | module_wrapper.py:139 | From /srv/app/venv/lib/python3.6/site-packages/keras/backend/tensorflow_backend.py:158: The name tf.ConfigProto is deprecated. Please use tf.compat.v1.ConfigProto instead.\n",
      "\n",
      "WARNING  | module_wrapper.py:139 | From /srv/app/venv/lib/python3.6/site-packages/keras/backend/tensorflow_backend.py:333: The name tf.global_variables is deprecated. Please use tf.compat.v1.global_variables instead.\n",
      "\n",
      "WARNING  | module_wrapper.py:139 | From /srv/app/venv/lib/python3.6/site-packages/keras/backend/tensorflow_backend.py:341: The name tf.variables_initializer is deprecated. Please use tf.compat.v1.variables_initializer instead.\n",
      "\n"
     ]
    },
    {
     "name": "stdout",
     "output_type": "stream",
     "text": [
      "Epoch 1/1\n",
      "26666/26666 [==============================] - 6s - loss: 0.7739 - acc: 0.7602     \n",
      "13240/13334 [============================>.] - ETA: 0sEpoch 1/1\n",
      "26667/26667 [==============================] - 6s - loss: 0.7538 - acc: 0.7726     \n",
      "13270/13333 [============================>.] - ETA: 0sEpoch 1/1\n",
      "26667/26667 [==============================] - 6s - loss: 0.7347 - acc: 0.7752     \n",
      "13010/13333 [============================>.] - ETA: 0sEpoch 1/2\n",
      "26666/26666 [==============================] - 6s - loss: 0.7520 - acc: 0.7668     \n",
      "Epoch 2/2\n",
      "26666/26666 [==============================] - 6s - loss: 0.5585 - acc: 0.8317     \n",
      "13170/13334 [============================>.] - ETA: 0sEpoch 1/2\n",
      "26667/26667 [==============================] - 8s - loss: 0.7351 - acc: 0.7765     \n",
      "Epoch 2/2\n",
      "26667/26667 [==============================] - 6s - loss: 0.5431 - acc: 0.8356     \n",
      "13270/13333 [============================>.] - ETA: 0sEpoch 1/2\n",
      "26667/26667 [==============================] - 8s - loss: 0.7326 - acc: 0.7783     \n",
      "Epoch 2/2\n",
      "26667/26667 [==============================] - 7s - loss: 0.5368 - acc: 0.8399     \n",
      "13220/13333 [============================>.] - ETA: 0sEpoch 1/5\n",
      "26666/26666 [==============================] - 8s - loss: 0.7595 - acc: 0.7673     \n",
      "Epoch 2/5\n",
      "26666/26666 [==============================] - 7s - loss: 0.5603 - acc: 0.8305     \n",
      "Epoch 3/5\n",
      "26666/26666 [==============================] - 7s - loss: 0.5140 - acc: 0.8476     \n",
      "Epoch 4/5\n",
      "26666/26666 [==============================] - 7s - loss: 0.4956 - acc: 0.8512     \n",
      "Epoch 5/5\n",
      "26666/26666 [==============================] - 7s - loss: 0.4758 - acc: 0.8586     \n",
      "13080/13334 [============================>.] - ETA: 0sEpoch 1/5\n",
      "26667/26667 [==============================] - 6s - loss: 0.7790 - acc: 0.7647     \n",
      "Epoch 2/5\n",
      "26667/26667 [==============================] - 6s - loss: 0.5511 - acc: 0.8344     \n",
      "Epoch 3/5\n",
      "26667/26667 [==============================] - 6s - loss: 0.5158 - acc: 0.8451     \n",
      "Epoch 4/5\n",
      "26667/26667 [==============================] - 6s - loss: 0.5027 - acc: 0.8509     \n",
      "Epoch 5/5\n",
      "26667/26667 [==============================] - 6s - loss: 0.4799 - acc: 0.8559     \n",
      "13270/13333 [============================>.] - ETA: 0sEpoch 1/5\n",
      "26667/26667 [==============================] - 7s - loss: 0.7412 - acc: 0.7726     \n",
      "Epoch 2/5\n",
      "26667/26667 [==============================] - 6s - loss: 0.5387 - acc: 0.8386     \n",
      "Epoch 3/5\n",
      "26667/26667 [==============================] - 6s - loss: 0.5065 - acc: 0.8456     \n",
      "Epoch 4/5\n",
      "26667/26667 [==============================] - 6s - loss: 0.4878 - acc: 0.8535     \n",
      "Epoch 5/5\n",
      "26667/26667 [==============================] - 6s - loss: 0.4734 - acc: 0.8582     \n",
      "13050/13333 [============================>.] - ETA: 0sEpoch 1/1\n",
      "26666/26666 [==============================] - 2s - loss: 0.8635 - acc: 0.7419     \n",
      "12870/13334 [===========================>..] - ETA: 0sEpoch 1/1\n",
      "26667/26667 [==============================] - 2s - loss: 0.8443 - acc: 0.7485     \n",
      "13170/13333 [============================>.] - ETA: 0sEpoch 1/1\n",
      "26667/26667 [==============================] - 2s - loss: 0.8665 - acc: 0.7348     \n",
      "12570/13333 [===========================>..] - ETA: 0sEpoch 1/2\n",
      "26666/26666 [==============================] - 3s - loss: 0.8626 - acc: 0.7400     \n",
      "Epoch 2/2\n",
      "26666/26666 [==============================] - 2s - loss: 0.5687 - acc: 0.8285     \n",
      "12330/13334 [==========================>...] - ETA: 0sEpoch 1/2\n",
      "26667/26667 [==============================] - 2s - loss: 0.8312 - acc: 0.7537     \n",
      "Epoch 2/2\n",
      "26667/26667 [==============================] - 2s - loss: 0.5694 - acc: 0.8289     \n",
      "12660/13333 [===========================>..] - ETA: 0sEpoch 1/2\n",
      "26667/26667 [==============================] - 3s - loss: 0.8454 - acc: 0.7453     \n",
      "Epoch 2/2\n",
      "26667/26667 [==============================] - 2s - loss: 0.5760 - acc: 0.8320     \n",
      "12180/13333 [==========================>...] - ETA: 0sEpoch 1/5\n",
      "26666/26666 [==============================] - 3s - loss: 0.8802 - acc: 0.7301     \n",
      "Epoch 2/5\n",
      "26666/26666 [==============================] - 2s - loss: 0.5831 - acc: 0.8244     \n",
      "Epoch 3/5\n",
      "26666/26666 [==============================] - 2s - loss: 0.5361 - acc: 0.8369     \n",
      "Epoch 4/5\n",
      "26666/26666 [==============================] - 2s - loss: 0.5029 - acc: 0.8461     \n",
      "Epoch 5/5\n",
      "26666/26666 [==============================] - 2s - loss: 0.4874 - acc: 0.8539     \n",
      "12720/13334 [===========================>..] - ETA: 0sEpoch 1/5\n",
      "26667/26667 [==============================] - 3s - loss: 0.8740 - acc: 0.7315     \n",
      "Epoch 2/5\n",
      "26667/26667 [==============================] - 2s - loss: 0.5737 - acc: 0.8280     \n",
      "Epoch 3/5\n",
      "26667/26667 [==============================] - 2s - loss: 0.5270 - acc: 0.8402     \n",
      "Epoch 4/5\n",
      "26667/26667 [==============================] - 2s - loss: 0.5032 - acc: 0.8500     \n",
      "Epoch 5/5\n",
      "26667/26667 [==============================] - 2s - loss: 0.4890 - acc: 0.8562     \n",
      "12570/13333 [===========================>..] - ETA: 0sEpoch 1/5\n",
      "26667/26667 [==============================] - 3s - loss: 0.8548 - acc: 0.7410     \n",
      "Epoch 2/5\n",
      "26667/26667 [==============================] - 2s - loss: 0.5727 - acc: 0.8286     \n",
      "Epoch 3/5\n",
      "26667/26667 [==============================] - 2s - loss: 0.5244 - acc: 0.8442     \n",
      "Epoch 4/5\n",
      "26667/26667 [==============================] - 2s - loss: 0.5009 - acc: 0.8530     \n",
      "Epoch 5/5\n",
      "26667/26667 [==============================] - 2s - loss: 0.4830 - acc: 0.8554     \n",
      "12750/13333 [===========================>..] - ETA: 0sEpoch 1/1\n",
      "26666/26666 [==============================] - 2s - loss: 0.9430 - acc: 0.7132     \n",
      "12950/13334 [============================>.] - ETA: 0sEpoch 1/1\n",
      "26667/26667 [==============================] - 2s - loss: 0.9784 - acc: 0.7032     \n",
      "12200/13333 [==========================>...] - ETA: 0sEpoch 1/1\n",
      "26667/26667 [==============================] - 2s - loss: 0.9124 - acc: 0.7222     \n",
      "12200/13333 [==========================>...] - ETA: 0sEpoch 1/2\n",
      "26666/26666 [==============================] - 2s - loss: 0.9362 - acc: 0.7198     \n",
      "Epoch 2/2\n",
      "26666/26666 [==============================] - 1s - loss: 0.6060 - acc: 0.8188     \n",
      "12300/13334 [==========================>...] - ETA: 0sEpoch 1/2\n",
      "26667/26667 [==============================] - 2s - loss: 0.8952 - acc: 0.7373     \n",
      "Epoch 2/2\n",
      "26667/26667 [==============================] - 1s - loss: 0.5820 - acc: 0.8295     \n",
      "13150/13333 [============================>.] - ETA: 0sEpoch 1/2\n",
      "26667/26667 [==============================] - 2s - loss: 0.9483 - acc: 0.7104     \n",
      "Epoch 2/2\n",
      "26667/26667 [==============================] - 1s - loss: 0.5844 - acc: 0.8255     \n",
      "12650/13333 [===========================>..] - ETA: 0sEpoch 1/5\n",
      "26666/26666 [==============================] - 2s - loss: 0.9891 - acc: 0.7002     \n",
      "Epoch 2/5\n",
      "26666/26666 [==============================] - 1s - loss: 0.6163 - acc: 0.8139     \n",
      "Epoch 3/5\n",
      "26666/26666 [==============================] - 1s - loss: 0.5530 - acc: 0.8350     \n",
      "Epoch 4/5\n",
      "26666/26666 [==============================] - 1s - loss: 0.5213 - acc: 0.8436     \n",
      "Epoch 5/5\n",
      "26666/26666 [==============================] - 1s - loss: 0.5056 - acc: 0.8493     \n",
      "11900/13334 [=========================>....] - ETA: 0sEpoch 1/5\n",
      "26667/26667 [==============================] - 2s - loss: 0.9169 - acc: 0.7229     \n",
      "Epoch 2/5\n",
      "26667/26667 [==============================] - 1s - loss: 0.5921 - acc: 0.8249     \n",
      "Epoch 3/5\n",
      "26667/26667 [==============================] - 1s - loss: 0.5323 - acc: 0.8430     \n",
      "Epoch 4/5\n",
      "26667/26667 [==============================] - 1s - loss: 0.5130 - acc: 0.8477     \n",
      "Epoch 5/5\n",
      "26667/26667 [==============================] - 1s - loss: 0.4935 - acc: 0.8542     \n",
      "11850/13333 [=========================>....] - ETA: 0sEpoch 1/5\n",
      "26667/26667 [==============================] - 3s - loss: 0.9221 - acc: 0.7263     \n",
      "Epoch 2/5\n",
      "26667/26667 [==============================] - 1s - loss: 0.5932 - acc: 0.8246     \n",
      "Epoch 3/5\n",
      "26667/26667 [==============================] - 1s - loss: 0.5319 - acc: 0.8400     \n",
      "Epoch 4/5\n",
      "26667/26667 [==============================] - 1s - loss: 0.5049 - acc: 0.8494     \n",
      "Epoch 5/5\n",
      "26667/26667 [==============================] - 1s - loss: 0.4880 - acc: 0.8552     \n",
      "12750/13333 [===========================>..] - ETA: 0sEpoch 1/1\n",
      "26666/26666 [==============================] - 2s - loss: 1.1050 - acc: 0.6581     \n",
      "12400/13334 [==========================>...] - ETA: 0sEpoch 1/1\n",
      "26667/26667 [==============================] - 2s - loss: 1.0817 - acc: 0.6655     \n",
      "12100/13333 [==========================>...] - ETA: 0sEpoch 1/1\n",
      "26667/26667 [==============================] - 2s - loss: 1.0603 - acc: 0.6705     \n",
      "11000/13333 [=======================>......] - ETA: 0sEpoch 1/2\n",
      "26666/26666 [==============================] - 2s - loss: 1.0499 - acc: 0.6812     \n",
      "Epoch 2/2\n",
      "26666/26666 [==============================] - 0s - loss: 0.6636 - acc: 0.8025     \n",
      "12100/13334 [==========================>...] - ETA: 0sEpoch 1/2\n",
      "26667/26667 [==============================] - 2s - loss: 1.0761 - acc: 0.6748     \n",
      "Epoch 2/2\n",
      "26667/26667 [==============================] - 1s - loss: 0.6597 - acc: 0.8049     \n",
      "10700/13333 [=======================>......] - ETA: 0sEpoch 1/2\n",
      "26667/26667 [==============================] - 2s - loss: 1.0451 - acc: 0.6879     \n",
      "Epoch 2/2\n",
      "26667/26667 [==============================] - 0s - loss: 0.6564 - acc: 0.8086     \n",
      "11100/13333 [=======================>......] - ETA: 0sEpoch 1/5\n",
      "26666/26666 [==============================] - 2s - loss: 1.1076 - acc: 0.6640     \n",
      "Epoch 2/5\n",
      "26666/26666 [==============================] - 1s - loss: 0.6768 - acc: 0.7972     \n",
      "Epoch 3/5\n",
      "26666/26666 [==============================] - 1s - loss: 0.6020 - acc: 0.8204     \n",
      "Epoch 4/5\n",
      "26666/26666 [==============================] - 1s - loss: 0.5616 - acc: 0.8308     \n",
      "Epoch 5/5\n",
      "26666/26666 [==============================] - 1s - loss: 0.5340 - acc: 0.8421     \n",
      "11900/13334 [=========================>....] - ETA: 0sEpoch 1/5\n",
      "26667/26667 [==============================] - 2s - loss: 1.0477 - acc: 0.6801     \n",
      "Epoch 2/5\n",
      "26667/26667 [==============================] - 1s - loss: 0.6584 - acc: 0.8055     \n",
      "Epoch 3/5\n",
      "26667/26667 [==============================] - 1s - loss: 0.5920 - acc: 0.8211     \n",
      "Epoch 4/5\n",
      "26667/26667 [==============================] - 1s - loss: 0.5500 - acc: 0.8356     \n",
      "Epoch 5/5\n",
      "26667/26667 [==============================] - 1s - loss: 0.5250 - acc: 0.8442     \n",
      "13200/13333 [============================>.] - ETA: 0sEpoch 1/5\n",
      "26667/26667 [==============================] - 2s - loss: 1.0539 - acc: 0.6843     \n",
      "Epoch 2/5\n",
      "26667/26667 [==============================] - 1s - loss: 0.6611 - acc: 0.8050     \n",
      "Epoch 3/5\n",
      "26667/26667 [==============================] - 1s - loss: 0.5783 - acc: 0.8284     \n",
      "Epoch 4/5\n",
      "26667/26667 [==============================] - 1s - loss: 0.5394 - acc: 0.8390     \n",
      "Epoch 5/5\n",
      "26667/26667 [==============================] - 1s - loss: 0.5152 - acc: 0.8475     \n",
      "11500/13333 [========================>.....] - ETA: 0sEpoch 1/5\n",
      "40000/40000 [==============================] - 16s - loss: 0.6907 - acc: 0.7885    \n",
      "Epoch 2/5\n",
      "40000/40000 [==============================] - 12s - loss: 0.5264 - acc: 0.8407    \n",
      "Epoch 3/5\n",
      "40000/40000 [==============================] - 11s - loss: 0.5038 - acc: 0.8517    \n",
      "Epoch 4/5\n",
      "40000/40000 [==============================] - 11s - loss: 0.4856 - acc: 0.8555    \n",
      "Epoch 5/5\n",
      "40000/40000 [==============================] - 12s - loss: 0.4814 - acc: 0.8578    \n",
      "Best: 0.917650 using {'activation': 'elu', 'batch_size': 10, 'epochs': 5}\n"
     ]
    }
   ],
   "source": [
    "act = ['relu', 'tanh', 'elu', 'sigmoid', 'softmax']\n",
    "\n",
    "\n",
    "\n",
    "model_gridsearch = KerasClassifier(build_fn=create_DNN_4, verbose=1)\n",
    "\n",
    "    # define parameter dictionary\n",
    "\n",
    "batch_size = [10, 30, 50, 100]\n",
    "epochs = [1, 2, 5]\n",
    "activation = ['elu']\n",
    "\n",
    "param_grid = dict(batch_size=batch_size, epochs=epochs, activation = activation)\n",
    "\n",
    "    # call scikit grid search module\n",
    "grid = GridSearchCV(estimator=model_gridsearch, param_grid=param_grid, cv=3)\n",
    "grid_result = grid.fit(X_train,Y_train)\n",
    "    \n",
    "Score_elu = [grid_result.best_score_, grid_result.best_params_]\n",
    "    \n",
    "print(\"Best: %f using %s\" % (grid_result.best_score_, grid_result.best_params_))\n",
    "means_elu = grid_result.cv_results_['mean_test_score']\n",
    "stds_elu = grid_result.cv_results_['std_test_score']\n",
    "params_elu = grid_result.cv_results_['params']"
   ]
  },
  {
   "cell_type": "code",
   "execution_count": 9,
   "metadata": {},
   "outputs": [
    {
     "name": "stdout",
     "output_type": "stream",
     "text": [
      "means test score of each case with tanh\n",
      "0.897150 (0.003281) with: {'activation': 'elu', 'batch_size': 10, 'epochs': 1}\n",
      "0.907650 (0.001236) with: {'activation': 'elu', 'batch_size': 10, 'epochs': 2}\n",
      "0.917650 (0.003197) with: {'activation': 'elu', 'batch_size': 10, 'epochs': 5}\n",
      "0.890850 (0.006556) with: {'activation': 'elu', 'batch_size': 30, 'epochs': 1}\n",
      "0.904575 (0.005457) with: {'activation': 'elu', 'batch_size': 30, 'epochs': 2}\n",
      "0.914575 (0.004020) with: {'activation': 'elu', 'batch_size': 30, 'epochs': 5}\n",
      "0.882775 (0.007863) with: {'activation': 'elu', 'batch_size': 50, 'epochs': 1}\n",
      "0.901575 (0.005130) with: {'activation': 'elu', 'batch_size': 50, 'epochs': 2}\n",
      "0.911125 (0.003150) with: {'activation': 'elu', 'batch_size': 50, 'epochs': 5}\n",
      "0.872775 (0.002362) with: {'activation': 'elu', 'batch_size': 100, 'epochs': 1}\n",
      "0.892250 (0.005239) with: {'activation': 'elu', 'batch_size': 100, 'epochs': 2}\n",
      "0.908400 (0.003371) with: {'activation': 'elu', 'batch_size': 100, 'epochs': 5}\n"
     ]
    }
   ],
   "source": [
    "print('means test score of each case with tanh')\n",
    "for mean, stdev, param in zip(means_elu, stds_elu, params_elu):\n",
    "    print(\"%f (%f) with: %r\" % (mean, stdev, param))"
   ]
  },
  {
   "cell_type": "code",
   "execution_count": 10,
   "metadata": {},
   "outputs": [
    {
     "name": "stdout",
     "output_type": "stream",
     "text": [
      "Best with 'elu': 0.917650 using 0.9176499929502606\n"
     ]
    }
   ],
   "source": [
    "print(\"Best with %r: %f using %s\" % ('elu', Score_elu[0], Score_elu[0]))"
   ]
  },
  {
   "cell_type": "code",
   "execution_count": 11,
   "metadata": {},
   "outputs": [
    {
     "name": "stdout",
     "output_type": "stream",
     "text": [
      "Epoch 1/1\n",
      "26666/26666 [==============================] - 9s - loss: 1.2552 - acc: 0.5928     \n",
      "13300/13334 [============================>.] - ETA: 0sEpoch 1/1\n",
      "26667/26667 [==============================] - 14s - loss: 1.2165 - acc: 0.6100    \n",
      "13160/13333 [============================>.] - ETA: 0sEpoch 1/1\n",
      "26667/26667 [==============================] - 9s - loss: 1.2604 - acc: 0.5913     \n",
      "13200/13333 [============================>.] - ETA: 0sEpoch 1/2\n",
      "26666/26666 [==============================] - 9s - loss: 1.2392 - acc: 0.6005     \n",
      "Epoch 2/2\n",
      "26666/26666 [==============================] - 7s - loss: 0.8282 - acc: 0.7274     \n",
      "13150/13334 [============================>.] - ETA: 0sEpoch 1/2\n",
      "26667/26667 [==============================] - 9s - loss: 1.2196 - acc: 0.6076     \n",
      "Epoch 2/2\n",
      "26667/26667 [==============================] - 7s - loss: 0.8207 - acc: 0.7292     \n",
      "13050/13333 [============================>.] - ETA: 0sEpoch 1/2\n",
      "26667/26667 [==============================] - 9s - loss: 1.2183 - acc: 0.6069     \n",
      "Epoch 2/2\n",
      "26667/26667 [==============================] - 8s - loss: 0.8162 - acc: 0.7321     \n",
      "13030/13333 [============================>.] - ETA: 0sEpoch 1/5\n",
      "26666/26666 [==============================] - 10s - loss: 1.2112 - acc: 0.6101    \n",
      "Epoch 2/5\n",
      "26666/26666 [==============================] - 7s - loss: 0.8157 - acc: 0.7277     \n",
      "Epoch 3/5\n",
      "26666/26666 [==============================] - 7s - loss: 0.7304 - acc: 0.7545     \n",
      "Epoch 4/5\n",
      "26666/26666 [==============================] - 7s - loss: 0.6954 - acc: 0.7670     \n",
      "Epoch 5/5\n",
      "26666/26666 [==============================] - 7s - loss: 0.6736 - acc: 0.7710     \n",
      "13240/13334 [============================>.] - ETA: 0sEpoch 1/5\n",
      "26667/26667 [==============================] - 9s - loss: 1.1960 - acc: 0.6081     \n",
      "Epoch 2/5\n",
      "26667/26667 [==============================] - 7s - loss: 0.8285 - acc: 0.7213     \n",
      "Epoch 3/5\n",
      "26667/26667 [==============================] - 6s - loss: 0.7526 - acc: 0.7414     \n",
      "Epoch 4/5\n",
      "26667/26667 [==============================] - 7s - loss: 0.7177 - acc: 0.7528     \n",
      "Epoch 5/5\n",
      "26667/26667 [==============================] - 7s - loss: 0.6894 - acc: 0.7645     \n",
      "13110/13333 [============================>.] - ETA: 0sEpoch 1/5\n",
      "26667/26667 [==============================] - 9s - loss: 1.2184 - acc: 0.6053     \n",
      "Epoch 2/5\n",
      "26667/26667 [==============================] - 7s - loss: 0.8302 - acc: 0.7241     \n",
      "Epoch 3/5\n",
      "26667/26667 [==============================] - 7s - loss: 0.7476 - acc: 0.7458     \n",
      "Epoch 4/5\n",
      "26667/26667 [==============================] - 7s - loss: 0.7121 - acc: 0.7548     \n",
      "Epoch 5/5\n",
      "26667/26667 [==============================] - 7s - loss: 0.6884 - acc: 0.7615     \n",
      "13170/13333 [============================>.] - ETA: 0sEpoch 1/1\n",
      "26666/26666 [==============================] - 4s - loss: 1.4387 - acc: 0.5376     \n",
      "13140/13334 [============================>.] - ETA: 0sEpoch 1/1\n",
      "26667/26667 [==============================] - 5s - loss: 1.4588 - acc: 0.5313     \n",
      "12420/13333 [==========================>...] - ETA: 0sEpoch 1/1\n",
      "26667/26667 [==============================] - 4s - loss: 1.4645 - acc: 0.5305     \n",
      "12480/13333 [===========================>..] - ETA: 0sEpoch 1/2\n",
      "26666/26666 [==============================] - 4s - loss: 1.4503 - acc: 0.5266     \n",
      "Epoch 2/2\n",
      "26666/26666 [==============================] - 2s - loss: 0.9772 - acc: 0.6776     \n",
      "13334/13334 [==============================] - 2s     \n",
      "Epoch 1/2\n",
      "26667/26667 [==============================] - 5s - loss: 1.4488 - acc: 0.5256     \n",
      "Epoch 2/2\n",
      "26667/26667 [==============================] - 2s - loss: 0.9580 - acc: 0.6900     \n",
      "13333/13333 [==============================] - 2s     \n",
      "Epoch 1/2\n",
      "26667/26667 [==============================] - 4s - loss: 1.4500 - acc: 0.5374     \n",
      "Epoch 2/2\n",
      "26667/26667 [==============================] - 2s - loss: 0.9581 - acc: 0.6941     \n",
      "13020/13333 [============================>.] - ETA: 0sEpoch 1/5\n",
      "26666/26666 [==============================] - 5s - loss: 1.4869 - acc: 0.5284     \n",
      "Epoch 2/5\n",
      "26666/26666 [==============================] - 2s - loss: 0.9796 - acc: 0.6821     \n",
      "Epoch 3/5\n",
      "26666/26666 [==============================] - 2s - loss: 0.8415 - acc: 0.7213     \n",
      "Epoch 4/5\n",
      "26666/26666 [==============================] - 2s - loss: 0.7866 - acc: 0.7363     \n",
      "Epoch 5/5\n",
      "26666/26666 [==============================] - 2s - loss: 0.7544 - acc: 0.7449     \n",
      "13020/13334 [============================>.] - ETA: 0sEpoch 1/5\n",
      "26667/26667 [==============================] - 5s - loss: 1.4514 - acc: 0.5255     \n",
      "Epoch 2/5\n",
      "26667/26667 [==============================] - 3s - loss: 0.9578 - acc: 0.6926     \n",
      "Epoch 3/5\n",
      "26667/26667 [==============================] - 3s - loss: 0.8281 - acc: 0.7310     \n",
      "Epoch 4/5\n",
      "26667/26667 [==============================] - 2s - loss: 0.7694 - acc: 0.7456     \n",
      "Epoch 5/5\n",
      "26667/26667 [==============================] - 2s - loss: 0.7347 - acc: 0.7565     \n",
      "13260/13333 [============================>.] - ETA: 0sEpoch 1/5\n",
      "26667/26667 [==============================] - 6s - loss: 1.4397 - acc: 0.5379     \n",
      "Epoch 2/5\n",
      "26667/26667 [==============================] - 3s - loss: 0.9495 - acc: 0.6927     \n",
      "Epoch 3/5\n",
      "26667/26667 [==============================] - 3s - loss: 0.8167 - acc: 0.7269     \n",
      "Epoch 4/5\n",
      "26667/26667 [==============================] - 5s - loss: 1.5562 - acc: 0.4909     \n",
      "Epoch 2/5\n",
      "26667/26667 [==============================] - 1s - loss: 1.0479 - acc: 0.6652     \n",
      "Epoch 3/5\n",
      "26667/26667 [==============================] - 1s - loss: 0.9042 - acc: 0.7010     \n",
      "Epoch 4/5\n",
      "26667/26667 [==============================] - 1s - loss: 0.8318 - acc: 0.7180     \n",
      "Epoch 5/5\n",
      "26667/26667 [==============================] - 1s - loss: 0.7931 - acc: 0.7312     \n",
      "12250/13333 [==========================>...] - ETA: 0sEpoch 1/5\n",
      "26667/26667 [==============================] - 5s - loss: 1.5356 - acc: 0.5023     \n",
      "Epoch 2/5\n",
      "26667/26667 [==============================] - 1s - loss: 1.0470 - acc: 0.6702     \n",
      "Epoch 3/5\n",
      "26667/26667 [==============================] - 1s - loss: 0.9079 - acc: 0.7061     \n",
      "Epoch 4/5\n",
      "26667/26667 [==============================] - 1s - loss: 0.8331 - acc: 0.7272     \n",
      "Epoch 5/5\n",
      "26667/26667 [==============================] - 1s - loss: 0.7901 - acc: 0.7414     \n",
      "12500/13333 [===========================>..] - ETA: 0sEpoch 1/1\n",
      "26666/26666 [==============================] - 4s - loss: 1.7326 - acc: 0.4398     \n",
      "11200/13334 [========================>.....] - ETA: 0sEpoch 1/1\n",
      "26667/26667 [==============================] - 3s - loss: 1.7174 - acc: 0.4346     \n",
      "11900/13333 [=========================>....] - ETA: 0sEpoch 1/1\n",
      "26667/26667 [==============================] - 4s - loss: 1.7087 - acc: 0.4269     \n",
      "12000/13333 [==========================>...] - ETA: 0sEpoch 1/2\n",
      "26666/26666 [==============================] - 4s - loss: 1.7270 - acc: 0.4344     \n",
      "Epoch 2/2\n",
      "26666/26666 [==============================] - 1s - loss: 1.2031 - acc: 0.6257     \n",
      "12800/13334 [===========================>..] - ETA: 0sEpoch 1/2\n",
      "26667/26667 [==============================] - 4s - loss: 1.7394 - acc: 0.4256     \n",
      "Epoch 2/2\n",
      "26667/26667 [==============================] - 1s - loss: 1.2055 - acc: 0.6300     \n",
      "12500/13333 [===========================>..] - ETA: 0sEpoch 1/2\n",
      "26667/26667 [==============================] - 4s - loss: 1.7565 - acc: 0.4261     \n",
      "Epoch 2/2\n",
      "26667/26667 [==============================] - 0s - loss: 1.2393 - acc: 0.6131     \n",
      "12100/13333 [==========================>...] - ETA: 0sEpoch 1/5\n",
      "26666/26666 [==============================] - 4s - loss: 1.7554 - acc: 0.4168     \n",
      "Epoch 2/5\n",
      "26666/26666 [==============================] - 1s - loss: 1.2235 - acc: 0.6159     \n",
      "Epoch 3/5\n",
      "26666/26666 [==============================] - 0s - loss: 1.0325 - acc: 0.6682     \n",
      "Epoch 4/5\n",
      "26666/26666 [==============================] - 1s - loss: 0.9302 - acc: 0.6926     \n",
      "Epoch 5/5\n",
      "26666/26666 [==============================] - 1s - loss: 0.8695 - acc: 0.7089     \n",
      "13100/13334 [============================>.] - ETA: 0sEpoch 1/5\n",
      "26667/26667 [==============================] - 4s - loss: 1.7411 - acc: 0.4337     \n",
      "Epoch 2/5\n",
      "26667/26667 [==============================] - 1s - loss: 1.2026 - acc: 0.6311     \n",
      "Epoch 3/5\n",
      "26667/26667 [==============================] - 1s - loss: 1.0007 - acc: 0.6891     \n",
      "Epoch 4/5\n",
      "26667/26667 [==============================] - 1s - loss: 0.8988 - acc: 0.7124     \n",
      "Epoch 5/5\n",
      "26667/26667 [==============================] - 1s - loss: 0.8380 - acc: 0.7306     \n",
      "12000/13333 [==========================>...] - ETA: 0sEpoch 1/5\n",
      "26667/26667 [==============================] - 4s - loss: 1.7275 - acc: 0.4326     \n",
      "Epoch 2/5\n",
      "26667/26667 [==============================] - 1s - loss: 1.2023 - acc: 0.6243     \n",
      "Epoch 3/5\n",
      "26667/26667 [==============================] - 1s - loss: 1.0047 - acc: 0.6802     \n",
      "Epoch 4/5\n",
      "26667/26667 [==============================] - 1s - loss: 0.9008 - acc: 0.7092     \n",
      "Epoch 5/5\n",
      "26667/26667 [==============================] - 0s - loss: 0.8406 - acc: 0.7242     \n",
      "11200/13333 [========================>.....] - ETA: 0sEpoch 1/5\n",
      "40000/40000 [==============================] - 14s - loss: 1.1039 - acc: 0.6452    \n",
      "Epoch 2/5\n",
      "40000/40000 [==============================] - 12s - loss: 0.7564 - acc: 0.7468    \n",
      "Epoch 3/5\n",
      "40000/40000 [==============================] - 12s - loss: 0.7128 - acc: 0.7616    \n",
      "Epoch 4/5\n",
      "40000/40000 [==============================] - 12s - loss: 0.6782 - acc: 0.7713    \n",
      "Epoch 5/5\n",
      "40000/40000 [==============================] - 11s - loss: 0.6620 - acc: 0.7751    \n",
      "Best: 0.909875 using {'activation': 'sigmoid', 'batch_size': 10, 'epochs': 5}\n"
     ]
    }
   ],
   "source": [
    "act = ['relu', 'tanh', 'elu', 'sigmoid', 'softmax']\n",
    "\n",
    "\n",
    "model_gridsearch = KerasClassifier(build_fn=create_DNN_4, verbose=1)\n",
    "\n",
    "    # define parameter dictionary\n",
    "\n",
    "batch_size = [10, 30, 50, 100]\n",
    "epochs = [1, 2, 5]\n",
    "activation = ['sigmoid']\n",
    "\n",
    "param_grid = dict(batch_size=batch_size, epochs=epochs, activation = activation)\n",
    "\n",
    "    # call scikit grid search module\n",
    "grid = GridSearchCV(estimator=model_gridsearch, param_grid=param_grid, cv=3)\n",
    "grid_result = grid.fit(X_train,Y_train)\n",
    "    \n",
    "Score_sigmoid = [grid_result.best_score_, grid_result.best_params_]\n",
    "    \n",
    "print(\"Best: %f using %s\" % (grid_result.best_score_, grid_result.best_params_))\n",
    "means_sigmoid = grid_result.cv_results_['mean_test_score']\n",
    "stds_sigmoid = grid_result.cv_results_['std_test_score']\n",
    "params_sigmoid = grid_result.cv_results_['params']"
   ]
  },
  {
   "cell_type": "code",
   "execution_count": 12,
   "metadata": {},
   "outputs": [
    {
     "name": "stdout",
     "output_type": "stream",
     "text": [
      "means test score of each case with sigmoid\n",
      "0.881850 (0.007478) with: {'activation': 'sigmoid', 'batch_size': 10, 'epochs': 1}\n",
      "0.894175 (0.004591) with: {'activation': 'sigmoid', 'batch_size': 10, 'epochs': 2}\n",
      "0.909875 (0.007642) with: {'activation': 'sigmoid', 'batch_size': 10, 'epochs': 5}\n",
      "0.857150 (0.007680) with: {'activation': 'sigmoid', 'batch_size': 30, 'epochs': 1}\n",
      "0.881300 (0.002654) with: {'activation': 'sigmoid', 'batch_size': 30, 'epochs': 2}\n",
      "0.902400 (0.002567) with: {'activation': 'sigmoid', 'batch_size': 30, 'epochs': 5}\n",
      "0.832825 (0.013034) with: {'activation': 'sigmoid', 'batch_size': 50, 'epochs': 1}\n",
      "0.877975 (0.004046) with: {'activation': 'sigmoid', 'batch_size': 50, 'epochs': 2}\n",
      "0.894900 (0.002912) with: {'activation': 'sigmoid', 'batch_size': 50, 'epochs': 5}\n",
      "0.803000 (0.016739) with: {'activation': 'sigmoid', 'batch_size': 100, 'epochs': 1}\n",
      "0.860175 (0.005913) with: {'activation': 'sigmoid', 'batch_size': 100, 'epochs': 2}\n",
      "0.891475 (0.004841) with: {'activation': 'sigmoid', 'batch_size': 100, 'epochs': 5}\n"
     ]
    }
   ],
   "source": [
    "print('means test score of each case with sigmoid')\n",
    "for mean, stdev, param in zip(means_sigmoid, stds_sigmoid, params_sigmoid):\n",
    "    print(\"%f (%f) with: %r\" % (mean, stdev, param))"
   ]
  },
  {
   "cell_type": "code",
   "execution_count": 13,
   "metadata": {},
   "outputs": [
    {
     "name": "stdout",
     "output_type": "stream",
     "text": [
      "Best with 'sigmoid': 0.909875 using 0.9098749925777316\n"
     ]
    }
   ],
   "source": [
    "print(\"Best with %r: %f using %s\" % ('sigmoid', Score_sigmoid[0], Score_sigmoid[0]))"
   ]
  },
  {
   "cell_type": "code",
   "execution_count": 14,
   "metadata": {},
   "outputs": [
    {
     "name": "stdout",
     "output_type": "stream",
     "text": [
      "Epoch 1/1\n",
      "26666/26666 [==============================] - 11s - loss: 1.6375 - acc: 0.4522    \n",
      "13210/13334 [============================>.] - ETA: 0sEpoch 1/1\n",
      "26667/26667 [==============================] - 12s - loss: 1.6825 - acc: 0.4357    \n",
      "13240/13333 [============================>.] - ETA: 0sEpoch 1/1\n",
      "26667/26667 [==============================] - 12s - loss: 1.6866 - acc: 0.4065    \n",
      "13190/13333 [============================>.] - ETA: 0sEpoch 1/2\n",
      "26666/26666 [==============================] - 11s - loss: 1.6689 - acc: 0.4248    \n",
      "Epoch 2/2\n",
      "26666/26666 [==============================] - 7s - loss: 1.3499 - acc: 0.5139     \n",
      "13230/13334 [============================>.] - ETA: 0sEpoch 1/2\n",
      "26667/26667 [==============================] - 11s - loss: 1.6446 - acc: 0.4603    \n",
      "Epoch 2/2\n",
      "26667/26667 [==============================] - 7s - loss: 1.3066 - acc: 0.5342     \n",
      "13230/13333 [============================>.] - ETA: 0sEpoch 1/2\n",
      "26667/26667 [==============================] - 11s - loss: 1.6657 - acc: 0.4452    \n",
      "Epoch 2/2\n",
      "26667/26667 [==============================] - 8s - loss: 1.3579 - acc: 0.4936     \n",
      "13290/13333 [============================>.] - ETA: 0sEpoch 1/5\n",
      "26666/26666 [==============================] - 13s - loss: 1.7527 - acc: 0.3707    \n",
      "Epoch 2/5\n",
      "26666/26666 [==============================] - 9s - loss: 1.4885 - acc: 0.4354     \n",
      "Epoch 3/5\n",
      "26666/26666 [==============================] - 9s - loss: 1.3581 - acc: 0.4899     \n",
      "Epoch 4/5\n",
      "26666/26666 [==============================] - 9s - loss: 1.2676 - acc: 0.5206     \n",
      "Epoch 5/5\n",
      "26666/26666 [==============================] - 8s - loss: 1.1871 - acc: 0.5580     \n",
      "13320/13334 [============================>.] - ETA: 0sEpoch 1/5\n",
      "26667/26667 [==============================] - 12s - loss: 1.6964 - acc: 0.4187    \n",
      "Epoch 2/5\n",
      "22120/26667 [=======================>......] - ETA: 1s - loss: 1.3991 - acc: 0.4898"
     ]
    },
    {
     "name": "stderr",
     "output_type": "stream",
     "text": [
      "IOPub message rate exceeded.\n",
      "The notebook server will temporarily stop sending output\n",
      "to the client in order to avoid crashing it.\n",
      "To change this limit, set the config variable\n",
      "`--NotebookApp.iopub_msg_rate_limit`.\n",
      "\n",
      "Current values:\n",
      "NotebookApp.iopub_msg_rate_limit=1000.0 (msgs/sec)\n",
      "NotebookApp.rate_limit_window=3.0 (secs)\n",
      "\n"
     ]
    },
    {
     "name": "stdout",
     "output_type": "stream",
     "text": [
      "26667/26667 [==============================] - 7s - loss: 1.7926 - acc: 0.4028     \n",
      "Epoch 2/2\n",
      "26667/26667 [==============================] - 3s - loss: 1.5080 - acc: 0.4422     \n",
      "13080/13333 [============================>.] - ETA: 0sEpoch 1/2\n",
      "26667/26667 [==============================] - 7s - loss: 1.8521 - acc: 0.3789     \n",
      "Epoch 2/2\n",
      "26667/26667 [==============================] - 2s - loss: 1.5144 - acc: 0.4608     \n",
      "12630/13333 [===========================>..] - ETA: 0sEpoch 1/5\n",
      "26666/26666 [==============================] - 7s - loss: 1.8472 - acc: 0.4385     \n",
      "Epoch 2/5\n",
      "26666/26666 [==============================] - 3s - loss: 1.4477 - acc: 0.5261     \n",
      "Epoch 3/5\n",
      "26666/26666 [==============================] - 2s - loss: 1.3260 - acc: 0.5435     \n",
      "Epoch 4/5\n",
      "26666/26666 [==============================] - 2s - loss: 1.2607 - acc: 0.5502     \n",
      "Epoch 5/5\n",
      "26666/26666 [==============================] - 2s - loss: 1.2450 - acc: 0.5482     \n",
      "13020/13334 [============================>.] - ETA: 0sEpoch 1/5\n",
      "26667/26667 [==============================] - 7s - loss: 1.8272 - acc: 0.3890     \n",
      "Epoch 2/5\n",
      "26667/26667 [==============================] - 2s - loss: 1.5145 - acc: 0.4369     \n",
      "Epoch 3/5\n",
      "26667/26667 [==============================] - 2s - loss: 1.4034 - acc: 0.4695     \n",
      "Epoch 4/5\n",
      "26667/26667 [==============================] - 2s - loss: 1.3309 - acc: 0.5079     \n",
      "Epoch 5/5\n",
      "26667/26667 [==============================] - 2s - loss: 1.2920 - acc: 0.5077     \n",
      "26666/26666 [==============================] - 2s - loss: 1.3421 - acc: 0.4902     \n",
      "12450/13334 [===========================>..] - ETA: 0sEpoch 1/5\n",
      "26667/26667 [==============================] - 6s - loss: 1.8901 - acc: 0.4301     \n",
      "Epoch 2/5\n",
      "26667/26667 [==============================] - 2s - loss: 1.5341 - acc: 0.4945     \n",
      "Epoch 3/5\n",
      "26667/26667 [==============================] - 1s - loss: 1.4081 - acc: 0.5011     \n",
      "Epoch 4/5\n",
      "26667/26667 [==============================] - 1s - loss: 1.3490 - acc: 0.5058     \n",
      "Epoch 5/5\n",
      "26667/26667 [==============================] - 1s - loss: 1.3106 - acc: 0.5095     \n",
      "12450/13333 [===========================>..] - ETA: 0sEpoch 1/5\n",
      "26667/26667 [==============================] - 6s - loss: 1.9289 - acc: 0.3827     \n",
      "Epoch 2/5\n",
      "26667/26667 [==============================] - 1s - loss: 1.5656 - acc: 0.4716     - ETA\n",
      "Epoch 3/5\n",
      "26667/26667 [==============================] - 1s - loss: 1.4485 - acc: 0.4860     \n",
      "Epoch 4/5\n",
      "26667/26667 [==============================] - 1s - loss: 1.3960 - acc: 0.4982     \n",
      "Epoch 5/5\n",
      "26667/26667 [==============================] - 1s - loss: 1.3613 - acc: 0.5024     \n",
      "12700/13333 [===========================>..] - ETA: 0sEpoch 1/1\n",
      "26666/26666 [==============================] - 6s - loss: 2.0312 - acc: 0.4016     \n",
      "11900/13334 [=========================>....] - ETA: 0sEpoch 1/1\n",
      "26667/26667 [==============================] - 6s - loss: 1.9899 - acc: 0.3868     \n",
      "12800/13333 [===========================>..] - ETA: 0sEpoch 1/1\n",
      "26667/26667 [==============================] - 5s - loss: 2.0006 - acc: 0.3880     \n",
      "13100/13333 [============================>.] - ETA: 0sEpoch 1/2\n",
      "26666/26666 [==============================] - 6s - loss: 2.0170 - acc: 0.3565     \n",
      "Epoch 2/2\n",
      "26666/26666 [==============================] - 1s - loss: 1.7277 - acc: 0.4206     \n",
      "13200/13334 [============================>.] - ETA: 0sEpoch 1/2\n",
      "26667/26667 [==============================] - 6s - loss: 2.0283 - acc: 0.3670     \n",
      "Epoch 2/2\n",
      "26667/26667 [==============================] - 1s - loss: 1.7449 - acc: 0.4330     \n",
      "13100/13333 [============================>.] - ETA: 0sEpoch 1/2\n",
      "26667/26667 [==============================] - 6s - loss: 2.0262 - acc: 0.3809     \n",
      "Epoch 2/2\n",
      "26667/26667 [==============================] - 1s - loss: 1.6883 - acc: 0.4870     \n",
      "13300/13333 [============================>.] - ETA: 0sEpoch 1/5\n",
      "26666/26666 [==============================] - 6s - loss: 2.0536 - acc: 0.3966     \n",
      "Epoch 2/5\n",
      "26666/26666 [==============================] - 1s - loss: 1.7485 - acc: 0.4504     \n",
      "Epoch 3/5\n",
      "26666/26666 [==============================] - 1s - loss: 1.5865 - acc: 0.4665     \n",
      "Epoch 4/5\n",
      "26666/26666 [==============================] - 1s - loss: 1.4891 - acc: 0.4902     \n",
      "Epoch 5/5\n",
      "26666/26666 [==============================] - 1s - loss: 1.3952 - acc: 0.5198     \n",
      "12000/13334 [=========================>....] - ETA: 0sEpoch 1/5\n",
      "26667/26667 [==============================] - 6s - loss: 2.0185 - acc: 0.3701     \n",
      "Epoch 2/5\n",
      "26667/26667 [==============================] - 1s - loss: 1.6913 - acc: 0.4799     \n",
      "Epoch 3/5\n",
      "26667/26667 [==============================] - 1s - loss: 1.5115 - acc: 0.5016     \n",
      "Epoch 4/5\n",
      "26667/26667 [==============================] - 1s - loss: 1.4166 - acc: 0.5086     \n",
      "Epoch 5/5\n",
      "26667/26667 [==============================] - 1s - loss: 1.3506 - acc: 0.5165     \n",
      "11800/13333 [=========================>....] - ETA: 0sEpoch 1/5\n",
      "26667/26667 [==============================] - 6s - loss: 2.0161 - acc: 0.3791     \n",
      "Epoch 2/5\n",
      "26667/26667 [==============================] - 1s - loss: 1.7130 - acc: 0.4375     \n",
      "Epoch 3/5\n",
      "26667/26667 [==============================] - 1s - loss: 1.5614 - acc: 0.4630     \n",
      "Epoch 4/5\n",
      "26667/26667 [==============================] - 1s - loss: 1.4618 - acc: 0.4818     \n",
      "Epoch 5/5\n",
      "26667/26667 [==============================] - 1s - loss: 1.4246 - acc: 0.4827     \n",
      "13333/13333 [==============================] - 3s     \n",
      "Epoch 1/5\n",
      "40000/40000 [==============================] - 20s - loss: 1.6034 - acc: 0.4298    \n",
      "Epoch 2/5\n",
      "40000/40000 [==============================] - 14s - loss: 1.2904 - acc: 0.5297    \n",
      "Epoch 3/5\n",
      "40000/40000 [==============================] - 13s - loss: 1.1338 - acc: 0.5994    \n",
      "Epoch 4/5\n",
      "40000/40000 [==============================] - 13s - loss: 1.0572 - acc: 0.6244    \n",
      "Epoch 5/5\n",
      "40000/40000 [==============================] - 13s - loss: 1.0062 - acc: 0.6447    \n",
      "Best: 0.910525 using {'activation': 'softmax', 'batch_size': 10, 'epochs': 5}\n"
     ]
    }
   ],
   "source": [
    "act = ['relu', 'tanh', 'elu', 'sigmoid', 'softmax']\n",
    "\n",
    "\n",
    "model_gridsearch = KerasClassifier(build_fn=create_DNN_4, verbose=1)\n",
    "\n",
    "    # define parameter dictionary\n",
    "\n",
    "batch_size = [10, 30, 50, 100]\n",
    "epochs = [1, 2, 5]\n",
    "activation = ['softmax']\n",
    "\n",
    "param_grid = dict(batch_size=batch_size, epochs=epochs, activation = activation)\n",
    "\n",
    "    # call scikit grid search module\n",
    "grid = GridSearchCV(estimator=model_gridsearch, param_grid=param_grid, cv=3)\n",
    "grid_result = grid.fit(X_train,Y_train)\n",
    "    \n",
    "Score_softmax = [grid_result.best_score_, grid_result.best_params_]\n",
    "    \n",
    "print(\"Best: %f using %s\" % (grid_result.best_score_, grid_result.best_params_))\n",
    "means_softmax = grid_result.cv_results_['mean_test_score']\n",
    "stds_softmax = grid_result.cv_results_['std_test_score']\n",
    "params_softmax = grid_result.cv_results_['params']"
   ]
  },
  {
   "cell_type": "code",
   "execution_count": 15,
   "metadata": {},
   "outputs": [
    {
     "name": "stdout",
     "output_type": "stream",
     "text": [
      "means test score of each case with softmax\n",
      "0.820975 (0.035857) with: {'activation': 'softmax', 'batch_size': 10, 'epochs': 1}\n",
      "0.892650 (0.011209) with: {'activation': 'softmax', 'batch_size': 10, 'epochs': 2}\n",
      "0.910525 (0.002899) with: {'activation': 'softmax', 'batch_size': 10, 'epochs': 5}\n",
      "0.759600 (0.028500) with: {'activation': 'softmax', 'batch_size': 30, 'epochs': 1}\n",
      "0.793300 (0.015774) with: {'activation': 'softmax', 'batch_size': 30, 'epochs': 2}\n",
      "0.908700 (0.008550) with: {'activation': 'softmax', 'batch_size': 30, 'epochs': 5}\n",
      "0.729075 (0.059011) with: {'activation': 'softmax', 'batch_size': 50, 'epochs': 1}\n",
      "0.848375 (0.036608) with: {'activation': 'softmax', 'batch_size': 50, 'epochs': 2}\n",
      "0.863975 (0.039225) with: {'activation': 'softmax', 'batch_size': 50, 'epochs': 5}\n",
      "0.761675 (0.016869) with: {'activation': 'softmax', 'batch_size': 100, 'epochs': 1}\n",
      "0.771600 (0.034371) with: {'activation': 'softmax', 'batch_size': 100, 'epochs': 2}\n",
      "0.881350 (0.025424) with: {'activation': 'softmax', 'batch_size': 100, 'epochs': 5}\n"
     ]
    }
   ],
   "source": [
    "print('means test score of each case with softmax')\n",
    "for mean, stdev, param in zip(means_softmax, stds_softmax, params_softmax):\n",
    "    print(\"%f (%f) with: %r\" % (mean, stdev, param))\n",
    "    \n",
    "    "
   ]
  },
  {
   "cell_type": "code",
   "execution_count": 16,
   "metadata": {},
   "outputs": [
    {
     "name": "stdout",
     "output_type": "stream",
     "text": [
      "Best with 'softmax': 0.910525 using 0.9105249924995005\n"
     ]
    }
   ],
   "source": [
    "print(\"Best with %r: %f using %s\" % ('softmax', Score_softmax[0], Score_softmax[0]))"
   ]
  },
  {
   "cell_type": "code",
   "execution_count": 24,
   "metadata": {},
   "outputs": [
    {
     "name": "stdout",
     "output_type": "stream",
     "text": [
      "The activation function that gives the best auccracy is  elu with 0.91765\n"
     ]
    }
   ],
   "source": [
    "Best_scores = [['relu',0.914275], ['tanh',0.913950], ['elu', 0.917650], ['sigmoid',0.909875], ['softmax',0.910525]]\n",
    "max = Best_scores[0][1]\n",
    "indice_max_Best_score = 0\n",
    "for i in range(1,len(Best_scores)):\n",
    "    if Best_scores[i][1] > max:\n",
    "        max = Best_scores[i][1]\n",
    "        indice_max_Best_score = i\n",
    "    \n",
    "print('The activation function that gives the best auccracy is ', Best_scores[indice_max_Best_score][0], 'with', Best_scores[indice_max_Best_score][1])\n",
    "      \n",
    "    "
   ]
  },
  {
   "cell_type": "markdown",
   "metadata": {},
   "source": [
    "<span style=\"color:blue\"> <i> 4. Then we do the grid search over the number of neurons in the Dense layer and make a plot of mean test score as a function of num_neurons. </i></span> <br>"
   ]
  },
  {
   "cell_type": "code",
   "execution_count": 7,
   "metadata": {},
   "outputs": [
    {
     "name": "stdout",
     "output_type": "stream",
     "text": [
      "WARNING:tensorflow:From /srv/app/venv/lib/python3.6/site-packages/keras/backend/tensorflow_backend.py:442: The name tf.placeholder is deprecated. Please use tf.compat.v1.placeholder instead.\n",
      "\n",
      "WARNING:tensorflow:From /srv/app/venv/lib/python3.6/site-packages/keras/backend/tensorflow_backend.py:3543: The name tf.random_uniform is deprecated. Please use tf.random.uniform instead.\n",
      "\n",
      "WARNING:tensorflow:From /srv/app/venv/lib/python3.6/site-packages/keras/backend/tensorflow_backend.py:2888: calling dropout (from tensorflow.python.ops.nn_ops) with keep_prob is deprecated and will be removed in a future version.\n",
      "Instructions for updating:\n",
      "Please use `rate` instead of `keep_prob`. Rate should be set to `rate = 1 - keep_prob`.\n",
      "WARNING:tensorflow:From /srv/app/venv/lib/python3.6/site-packages/keras/optimizers.py:711: The name tf.train.Optimizer is deprecated. Please use tf.compat.v1.train.Optimizer instead.\n",
      "\n",
      "WARNING:tensorflow:From /srv/app/venv/lib/python3.6/site-packages/keras/backend/tensorflow_backend.py:2755: calling reduce_sum_v1 (from tensorflow.python.ops.math_ops) with keep_dims is deprecated and will be removed in a future version.\n",
      "Instructions for updating:\n",
      "keep_dims is deprecated, use keepdims instead\n",
      "WARNING:tensorflow:From /srv/app/venv/lib/python3.6/site-packages/keras/backend/tensorflow_backend.py:2759: The name tf.log is deprecated. Please use tf.math.log instead.\n",
      "\n",
      "WARNING:tensorflow:From /srv/app/venv/lib/python3.6/site-packages/tensorflow_core/python/ops/math_grad.py:1424: where (from tensorflow.python.ops.array_ops) is deprecated and will be removed in a future version.\n",
      "Instructions for updating:\n",
      "Use tf.where in 2.0, which has the same broadcast rule as np.where\n",
      "WARNING:tensorflow:From /srv/app/venv/lib/python3.6/site-packages/keras/backend/tensorflow_backend.py:899: The name tf.assign_add is deprecated. Please use tf.compat.v1.assign_add instead.\n",
      "\n",
      "WARNING:tensorflow:From /srv/app/venv/lib/python3.6/site-packages/keras/backend/tensorflow_backend.py:625: calling Constant.__init__ (from tensorflow.python.ops.init_ops) with dtype is deprecated and will be removed in a future version.\n",
      "Instructions for updating:\n",
      "Call initializer instance with the dtype argument instead of passing it to the constructor\n",
      "WARNING:tensorflow:From /srv/app/venv/lib/python3.6/site-packages/keras/backend/tensorflow_backend.py:886: The name tf.assign is deprecated. Please use tf.compat.v1.assign instead.\n",
      "\n",
      "WARNING:tensorflow:From /srv/app/venv/lib/python3.6/site-packages/keras/backend/tensorflow_backend.py:2294: The name tf.Session is deprecated. Please use tf.compat.v1.Session instead.\n",
      "\n",
      "Epoch 1/1\n",
      "WARNING:tensorflow:From /srv/app/venv/lib/python3.6/site-packages/keras/backend/tensorflow_backend.py:153: The name tf.get_default_session is deprecated. Please use tf.compat.v1.get_default_session instead.\n",
      "\n",
      "WARNING:tensorflow:From /srv/app/venv/lib/python3.6/site-packages/keras/backend/tensorflow_backend.py:158: The name tf.ConfigProto is deprecated. Please use tf.compat.v1.ConfigProto instead.\n",
      "\n",
      "WARNING:tensorflow:From /srv/app/venv/lib/python3.6/site-packages/keras/backend/tensorflow_backend.py:333: The name tf.global_variables is deprecated. Please use tf.compat.v1.global_variables instead.\n",
      "\n",
      "WARNING:tensorflow:From /srv/app/venv/lib/python3.6/site-packages/keras/backend/tensorflow_backend.py:341: The name tf.variables_initializer is deprecated. Please use tf.compat.v1.variables_initializer instead.\n",
      "\n",
      "26666/26666 [==============================] - 1s - loss: 1.5972 - acc: 0.4337     \n",
      "12032/13334 [==========================>...] - ETA: 0sEpoch 1/1\n",
      "26667/26667 [==============================] - 1s - loss: 1.5414 - acc: 0.4237     \n",
      "12800/13333 [===========================>..] - ETA: 0sEpoch 1/1\n",
      "26667/26667 [==============================] - 1s - loss: 1.5060 - acc: 0.4266     \n",
      "12032/13333 [==========================>...] - ETA: 0sEpoch 1/1\n",
      "26666/26666 [==============================] - 1s - loss: 0.6293 - acc: 0.8031     \n",
      "13312/13334 [============================>.] - ETA: 0sEpoch 1/1\n",
      "26667/26667 [==============================] - 1s - loss: 0.6142 - acc: 0.8079     \n",
      "12480/13333 [===========================>..] - ETA: 0sEpoch 1/1\n",
      "26667/26667 [==============================] - 1s - loss: 0.6066 - acc: 0.8110     \n",
      "11776/13333 [=========================>....] - ETA: 0sEpoch 1/1\n",
      "26666/26666 [==============================] - 2s - loss: 0.5004 - acc: 0.8441     \n",
      "11968/13334 [=========================>....] - ETA: 0sEpoch 1/1\n",
      "26667/26667 [==============================] - 2s - loss: 0.4799 - acc: 0.8544     \n",
      "12416/13333 [==========================>...] - ETA: 0sEpoch 1/1\n",
      "26667/26667 [==============================] - 2s - loss: 0.4841 - acc: 0.8528     \n",
      "12928/13333 [============================>.] - ETA: 0sEpoch 1/1\n",
      "26666/26666 [==============================] - 2s - loss: 0.3946 - acc: 0.8773     \n",
      "11520/13334 [========================>.....] - ETA: 0sEpoch 1/1\n",
      "26667/26667 [==============================] - 2s - loss: 0.3765 - acc: 0.8832     \n",
      "12352/13333 [==========================>...] - ETA: 0sEpoch 1/1\n",
      "26667/26667 [==============================] - 2s - loss: 0.3899 - acc: 0.8825     \n",
      "11712/13333 [=========================>....] - ETA: 0sEpoch 1/1\n",
      "26666/26666 [==============================] - 3s - loss: 0.3250 - acc: 0.9006     \n",
      "11968/13334 [=========================>....] - ETA: 0sEpoch 1/1\n",
      "26667/26667 [==============================] - 3s - loss: 0.3192 - acc: 0.9035     \n",
      "12672/13333 [===========================>..] - ETA: 0sEpoch 1/1\n",
      "26667/26667 [==============================] - 3s - loss: 0.3188 - acc: 0.9027     \n",
      "12608/13333 [===========================>..] - ETA: 0sEpoch 1/1\n",
      "26666/26666 [==============================] - 5s - loss: 0.3004 - acc: 0.9068     \n",
      "12096/13334 [==========================>...] - ETA: 0sEpoch 1/1\n",
      "26667/26667 [==============================] - 6s - loss: 0.3046 - acc: 0.9066     \n",
      "12416/13333 [==========================>...] - ETA: 0sEpoch 1/1\n",
      "26667/26667 [==============================] - 6s - loss: 0.3027 - acc: 0.9091     \n",
      "12480/13333 [===========================>..] - ETA: 0sEpoch 1/1\n",
      "26666/26666 [==============================] - 46s - loss: 0.3589 - acc: 0.9065    \n",
      "13248/13334 [============================>.] - ETA: 0sEpoch 1/1\n",
      "26667/26667 [==============================] - 51s - loss: 0.5187 - acc: 0.8979    \n",
      "13312/13333 [============================>.] - ETA: 0sEpoch 1/1\n",
      "26667/26667 [==============================] - 43s - loss: 1.0726 - acc: 0.8629    \n",
      "13120/13333 [============================>.] - ETA: 0sEpoch 1/1\n",
      "40000/40000 [==============================] - 7s - loss: 0.2622 - acc: 0.9185     \n"
     ]
    }
   ],
   "source": [
    "def create_DNN_5(optimizer=keras.optimizers.Adam(), num_neurons = 400):\n",
    "    model = Sequential()\n",
    "    model.add(Dense(num_neurons,input_shape=(img_rows*img_cols,), activation='relu'))\n",
    "    model.add(Dropout(0.5))\n",
    "    model.add(Dense(num_classes, activation='softmax'))\n",
    "    model.compile(loss=keras.losses.categorical_crossentropy,\n",
    "              optimizer=optimizer,\n",
    "              metrics=['accuracy'])\n",
    "    return model\n",
    "\n",
    "batch_size = 64\n",
    "epochs = 1\n",
    "model_gridsearch = KerasClassifier(build_fn=create_DNN_5, \n",
    "                        epochs=epochs, batch_size=batch_size, verbose=1)\n",
    "\n",
    "# define parameter dictionary\n",
    "num_neurons = [10,50,100,200,500,1000,10000]\n",
    "param_grid = dict(num_neurons=num_neurons)\n",
    "\n",
    "# call scikit grid search module\n",
    "grid = GridSearchCV(estimator=model_gridsearch, param_grid=param_grid, n_jobs=1, cv=3)\n",
    "grid_result = grid.fit(X_train,Y_train) \n",
    "    \n",
    "\n"
   ]
  },
  {
   "cell_type": "code",
   "execution_count": 12,
   "metadata": {},
   "outputs": [
    {
     "data": {
      "text/plain": [
       "Text(0.5, 1.0, 'DNN with Adam optimizer and relu as the activation function')"
      ]
     },
     "execution_count": 12,
     "metadata": {},
     "output_type": "execute_result"
    },
    {
     "data": {
      "image/png": "[encoded data removed]",
      "text/plain": [
       "<Figure size 432x288 with 1 Axes>"
      ]
     },
     "metadata": {
      "needs_background": "light"
     },
     "output_type": "display_data"
    }
   ],
   "source": [
    "Mean = []\n",
    "\n",
    "means = grid_result.cv_results_['mean_test_score']\n",
    "stds = grid_result.cv_results_['std_test_score']\n",
    "params = grid_result.cv_results_['params']\n",
    "for mean in zip(means):\n",
    "    Mean += [mean]\n",
    "    \n",
    "plt.plot(num_neurons, Mean)\n",
    "plt.xlabel('number of neurons')\n",
    "plt.ylabel('Mean test score ')\n",
    "plt.title('DNN with Adam optimizer and relu as the activation function')\n"
   ]
  },
  {
   "cell_type": "markdown",
   "metadata": {},
   "source": [
    "## Creating CNNs with Keras\n",
    "\n",
    "\n",
    "We have so far considered each MNIST data sample as a $(28\\times 28,)$-long 1d vector. This approach neglects any spatial structure in the image. On the other hand, we do know that in every one of the hand-written digits there are *local* spatial correlations between the pixels, which we would like to take advantage of to improve the accuracy of our classification model. To this end, we first need to reshape the training and test input data as follows"
   ]
  },
  {
   "cell_type": "code",
   "execution_count": 33,
   "metadata": {},
   "outputs": [
    {
     "name": "stdout",
     "output_type": "stream",
     "text": [
      "X_train shape: (40000, 28, 28, 1)\n",
      "Y_train shape: (40000, 10)\n",
      "\n",
      "40000 train samples\n",
      "10000 test samples\n"
     ]
    }
   ],
   "source": [
    "# reshape data, depending on Keras backend\n",
    "if keras.backend.image_data_format() == 'channels_first':\n",
    "    X_train = X_train.reshape(X_train.shape[0], 1, img_rows, img_cols)\n",
    "    X_test = X_test.reshape(X_test.shape[0], 1, img_rows, img_cols)\n",
    "    input_shape = (1, img_rows, img_cols)\n",
    "else:\n",
    "    X_train = X_train.reshape(X_train.shape[0], img_rows, img_cols, 1)\n",
    "    X_test = X_test.reshape(X_test.shape[0], img_rows, img_cols, 1)\n",
    "    input_shape = (img_rows, img_cols, 1)\n",
    "    \n",
    "print('X_train shape:', X_train.shape)\n",
    "print('Y_train shape:', Y_train.shape)\n",
    "print()\n",
    "print(X_train.shape[0], 'train samples')\n",
    "print(X_test.shape[0], 'test samples')"
   ]
  },
  {
   "cell_type": "markdown",
   "metadata": {},
   "source": [
    "One can ask the question of whether a neural net can learn to recognize such local patterns. This can be achieved by using convolutional layers. Luckily, all we need to do is change the architecture of our DNN.\n",
    "\n",
    "\n",
    "After we instantiate the model, add the first convolutional layer with 10 filters, which is the dimensionality of output space. (https://keras.io/layers/convolutional/) Here, we will be concerned with local spatial filters\n",
    "that take as inputs a small spatial patch of the\n",
    "previous layer at all depths. We consider a three-dimensional kernel of size $5\\times5\\times1$. Check out this visualization of the\n",
    "convolution procedure for a square input of unit depth: https://github.com/vdumoulin/conv_arithmetic/blob/master/README.md\n",
    "The convolution consists of running this filter over all locations\n",
    "in the spatial plane. After computing the filter, the output is passed through\n",
    "a non-linearity, a ReLU."
   ]
  },
  {
   "cell_type": "code",
   "execution_count": 35,
   "metadata": {},
   "outputs": [],
   "source": [
    "from keras.models import Sequential\n",
    "from keras.layers import Dense, Dropout, Flatten\n",
    "from keras.layers import Conv2D, MaxPooling2D\n",
    "\n",
    "model = Sequential()\n",
    "model.add(Conv2D(10, kernel_size=(5, 5),\n",
    "                 activation='relu',\n",
    "                 input_shape=input_shape))"
   ]
  },
  {
   "cell_type": "markdown",
   "metadata": {},
   "source": [
    "Subsequently, add a 2D pooling layer. (https://keras.io/layers/pooling/) This pooling layer coarse-grain spatial information by performing\n",
    "a subsampling at each depth. Here, we use the max pool operation. In a max pool, the spatial\n",
    "dimensions are coarse-grained by replacing a small region\n",
    "(say $2\\times2$ neurons) by a single neuron whose output is the\n",
    "maximum value of the output in the region."
   ]
  },
  {
   "cell_type": "code",
   "execution_count": 10,
   "metadata": {},
   "outputs": [
    {
     "name": "stdout",
     "output_type": "stream",
     "text": [
      "WARNING:tensorflow:From /srv/app/venv/lib/python3.6/site-packages/keras/backend/tensorflow_backend.py:3386: The name tf.nn.max_pool is deprecated. Please use tf.nn.max_pool2d instead.\n",
      "\n"
     ]
    }
   ],
   "source": [
    "model.add(MaxPooling2D(pool_size=(2, 2)))"
   ]
  },
  {
   "cell_type": "markdown",
   "metadata": {},
   "source": [
    "We add another convolutional layers with 20 filters and apply dropout. Then, wa add another pooling layer and flatten the data."
   ]
  },
  {
   "cell_type": "code",
   "execution_count": 12,
   "metadata": {},
   "outputs": [
    {
     "name": "stdout",
     "output_type": "stream",
     "text": [
      "WARNING:tensorflow:From /srv/app/venv/lib/python3.6/site-packages/keras/backend/tensorflow_backend.py:2888: calling dropout (from tensorflow.python.ops.nn_ops) with keep_prob is deprecated and will be removed in a future version.\n",
      "Instructions for updating:\n",
      "Please use `rate` instead of `keep_prob`. Rate should be set to `rate = 1 - keep_prob`.\n",
      "WARNING:tensorflow:From /srv/app/venv/lib/python3.6/site-packages/keras/backend/tensorflow_backend.py:1205: calling reduce_prod_v1 (from tensorflow.python.ops.math_ops) with keep_dims is deprecated and will be removed in a future version.\n",
      "Instructions for updating:\n",
      "keep_dims is deprecated, use keepdims instead\n",
      "WARNING:tensorflow:From /srv/app/venv/lib/python3.6/site-packages/keras/optimizers.py:711: The name tf.train.Optimizer is deprecated. Please use tf.compat.v1.train.Optimizer instead.\n",
      "\n",
      "WARNING:tensorflow:From /srv/app/venv/lib/python3.6/site-packages/keras/backend/tensorflow_backend.py:2755: calling reduce_sum_v1 (from tensorflow.python.ops.math_ops) with keep_dims is deprecated and will be removed in a future version.\n",
      "Instructions for updating:\n",
      "keep_dims is deprecated, use keepdims instead\n",
      "WARNING:tensorflow:From /srv/app/venv/lib/python3.6/site-packages/keras/backend/tensorflow_backend.py:2759: The name tf.log is deprecated. Please use tf.math.log instead.\n",
      "\n"
     ]
    }
   ],
   "source": [
    "# add second convolutional layer with 20 filters\n",
    "model.add(Conv2D(20, (5, 5), activation='relu'))\n",
    "# apply dropout with rate 0.5\n",
    "model.add(Dropout(0.5))\n",
    "# add 2D pooling layer\n",
    "model.add(MaxPooling2D(pool_size=(2, 2)))\n",
    "# flatten data\n",
    "model.add(Flatten())\n",
    "# add a dense all-to-all relu layer\n",
    "model.add(Dense(20*4*4, activation='relu'))\n",
    "# apply dropout with rate 0.5\n",
    "model.add(Dropout(0.5))\n",
    "# soft-max layer\n",
    "model.add(Dense(num_classes, activation='softmax'))\n",
    "\n",
    "# compile the model\n",
    "model.compile(loss=keras.losses.categorical_crossentropy,\n",
    "              optimizer='Adam',\n",
    "              metrics=['accuracy'])\n"
   ]
  },
  {
   "cell_type": "markdown",
   "metadata": {},
   "source": [
    "Lastly, train your CNN and evaluate the model."
   ]
  },
  {
   "cell_type": "code",
   "execution_count": 13,
   "metadata": {},
   "outputs": [
    {
     "name": "stdout",
     "output_type": "stream",
     "text": [
      "WARNING:tensorflow:From /srv/app/venv/lib/python3.6/site-packages/tensorflow_core/python/ops/math_grad.py:1424: where (from tensorflow.python.ops.array_ops) is deprecated and will be removed in a future version.\n",
      "Instructions for updating:\n",
      "Use tf.where in 2.0, which has the same broadcast rule as np.where\n",
      "WARNING:tensorflow:From /srv/app/venv/lib/python3.6/site-packages/keras/backend/tensorflow_backend.py:899: The name tf.assign_add is deprecated. Please use tf.compat.v1.assign_add instead.\n",
      "\n",
      "WARNING:tensorflow:From /srv/app/venv/lib/python3.6/site-packages/keras/backend/tensorflow_backend.py:625: calling Constant.__init__ (from tensorflow.python.ops.init_ops) with dtype is deprecated and will be removed in a future version.\n",
      "Instructions for updating:\n",
      "Call initializer instance with the dtype argument instead of passing it to the constructor\n",
      "WARNING:tensorflow:From /srv/app/venv/lib/python3.6/site-packages/keras/backend/tensorflow_backend.py:886: The name tf.assign is deprecated. Please use tf.compat.v1.assign instead.\n",
      "\n",
      "WARNING:tensorflow:From /srv/app/venv/lib/python3.6/site-packages/keras/backend/tensorflow_backend.py:2294: The name tf.Session is deprecated. Please use tf.compat.v1.Session instead.\n",
      "\n",
      "Train on 40000 samples, validate on 10000 samples\n",
      "Epoch 1/10\n",
      "WARNING:tensorflow:From /srv/app/venv/lib/python3.6/site-packages/keras/backend/tensorflow_backend.py:153: The name tf.get_default_session is deprecated. Please use tf.compat.v1.get_default_session instead.\n",
      "\n",
      "WARNING:tensorflow:From /srv/app/venv/lib/python3.6/site-packages/keras/backend/tensorflow_backend.py:158: The name tf.ConfigProto is deprecated. Please use tf.compat.v1.ConfigProto instead.\n",
      "\n",
      "WARNING:tensorflow:From /srv/app/venv/lib/python3.6/site-packages/keras/backend/tensorflow_backend.py:333: The name tf.global_variables is deprecated. Please use tf.compat.v1.global_variables instead.\n",
      "\n",
      "WARNING:tensorflow:From /srv/app/venv/lib/python3.6/site-packages/keras/backend/tensorflow_backend.py:341: The name tf.variables_initializer is deprecated. Please use tf.compat.v1.variables_initializer instead.\n",
      "\n",
      "40000/40000 [==============================] - 14s - loss: 0.3360 - acc: 0.8945 - val_loss: 0.1114 - val_acc: 0.9784\n",
      "Epoch 2/10\n",
      "40000/40000 [==============================] - 13s - loss: 0.1083 - acc: 0.9664 - val_loss: 0.0599 - val_acc: 0.9854\n",
      "Epoch 3/10\n",
      "40000/40000 [==============================] - 13s - loss: 0.0790 - acc: 0.9756 - val_loss: 0.0614 - val_acc: 0.9859\n",
      "Epoch 4/10\n",
      "40000/40000 [==============================] - 14s - loss: 0.0651 - acc: 0.9797 - val_loss: 0.0507 - val_acc: 0.9870\n",
      "Epoch 5/10\n",
      "40000/40000 [==============================] - 13s - loss: 0.0569 - acc: 0.9824 - val_loss: 0.0387 - val_acc: 0.9906\n",
      "Epoch 6/10\n",
      "40000/40000 [==============================] - 13s - loss: 0.0515 - acc: 0.9845 - val_loss: 0.0350 - val_acc: 0.9899\n",
      "Epoch 7/10\n",
      "40000/40000 [==============================] - 13s - loss: 0.0481 - acc: 0.9849 - val_loss: 0.0319 - val_acc: 0.9903\n",
      "Epoch 8/10\n",
      "40000/40000 [==============================] - 13s - loss: 0.0435 - acc: 0.9860 - val_loss: 0.0287 - val_acc: 0.9918\n",
      "Epoch 9/10\n",
      "40000/40000 [==============================] - 13s - loss: 0.0417 - acc: 0.9868 - val_loss: 0.0307 - val_acc: 0.9915\n",
      "Epoch 10/10\n",
      "40000/40000 [==============================] - 13s - loss: 0.0391 - acc: 0.9874 - val_loss: 0.0273 - val_acc: 0.9921\n",
      " 9664/10000 [===========================>..] - ETA: 0s\n",
      "Test loss: 0.027253641115874052\n",
      "Test accuracy: 0.9921\n"
     ]
    }
   ],
   "source": [
    "# training parameters\n",
    "batch_size = 64\n",
    "epochs = 10\n",
    "\n",
    "\n",
    "# train CNN\n",
    "model.fit(X_train, Y_train,\n",
    "          batch_size=batch_size,\n",
    "          epochs=epochs,\n",
    "          verbose=1,\n",
    "          validation_data=(X_test, Y_test))\n",
    "\n",
    "# evaliate model\n",
    "score = model.evaluate(X_test, Y_test, verbose=1)\n",
    "\n",
    "# print performance\n",
    "print()\n",
    "print('Test loss:', score[0])\n",
    "print('Test accuracy:', score[1])"
   ]
  },
  {
   "cell_type": "markdown",
   "metadata": {},
   "source": [
    "<span style=\"color:blue\"> <i> We do the grid search over any 3 different optimization schemes and 2 activation functions. Suppose that we have a 2 convolutional layers with 10 neurons. Let p_dropout = 0.5, epochs = 1, and batch_size = 64. We then determine which combination of optimization scheme, activation function, and number of neurons gives the best accuracy. </i></span> <br>"
   ]
  },
  {
   "cell_type": "code",
   "execution_count": 20,
   "metadata": {},
   "outputs": [
    {
     "name": "stdout",
     "output_type": "stream",
     "text": [
      "Epoch 1/1\n",
      "30000/30000 [==============================] - 7s - loss: 1.1450 - acc: 0.6280     \n",
      " 9984/10000 [============================>.] - ETA: 0sEpoch 1/1\n",
      "30000/30000 [==============================] - 8s - loss: 1.3913 - acc: 0.5411     \n",
      "10000/10000 [==============================] - 1s     \n",
      "Epoch 1/1\n",
      "30000/30000 [==============================] - 8s - loss: 1.2757 - acc: 0.5739     \n",
      " 9920/10000 [============================>.] - ETA: 0sEpoch 1/1\n",
      "30000/30000 [==============================] - 7s - loss: 1.2027 - acc: 0.6054     \n",
      " 9600/10000 [===========================>..] - ETA: 0sEpoch 1/1\n",
      "30000/30000 [==============================] - 8s - loss: 0.6027 - acc: 0.8077     \n",
      " 9920/10000 [============================>.] - ETA: 0sEpoch 1/1\n",
      "30000/30000 [==============================] - 8s - loss: 0.5959 - acc: 0.8104     \n",
      " 9984/10000 [============================>.] - ETA: 0sEpoch 1/1\n",
      "30000/30000 [==============================] - 10s - loss: 0.6220 - acc: 0.7986    \n",
      " 9472/10000 [===========================>..] - ETA: 0sEpoch 1/1\n",
      "30000/30000 [==============================] - 9s - loss: 0.5610 - acc: 0.8221     \n",
      "10000/10000 [==============================] - 2s     \n",
      "Epoch 1/1\n",
      "30000/30000 [==============================] - 8s - loss: 0.6942 - acc: 0.7753     \n",
      " 9664/10000 [===========================>..] - ETA: 0sEpoch 1/1\n",
      "30000/30000 [==============================] - 8s - loss: 0.7414 - acc: 0.7585     \n",
      " 9408/10000 [===========================>..] - ETA: 0sEpoch 1/1\n",
      "30000/30000 [==============================] - 8s - loss: 0.7196 - acc: 0.7741     \n",
      " 9536/10000 [===========================>..] - ETA: 0sEpoch 1/1\n",
      "30000/30000 [==============================] - 8s - loss: 0.7333 - acc: 0.7634     \n",
      " 9856/10000 [============================>.] - ETA: 0sEpoch 1/1\n",
      "30000/30000 [==============================] - 9s - loss: 1.2508 - acc: 0.5930     \n",
      " 9664/10000 [===========================>..] - ETA: 0sEpoch 1/1\n",
      "30000/30000 [==============================] - 10s - loss: 1.1221 - acc: 0.6319    \n",
      " 9920/10000 [============================>.] - ETA: 0sEpoch 1/1\n",
      "30000/30000 [==============================] - 9s - loss: 1.1447 - acc: 0.6256     \n",
      " 9472/10000 [===========================>..] - ETA: 0sEpoch 1/1\n",
      "30000/30000 [==============================] - 9s - loss: 1.1448 - acc: 0.6230     \n",
      " 9792/10000 [============================>.] - ETA: 0sEpoch 1/1\n",
      "30000/30000 [==============================] - 9s - loss: 0.6497 - acc: 0.7922     \n",
      " 9664/10000 [===========================>..] - ETA: 0sEpoch 1/1\n",
      "30000/30000 [==============================] - 9s - loss: 0.5935 - acc: 0.8117     \n",
      " 9600/10000 [===========================>..] - ETA: 0sEpoch 1/1\n",
      "30000/30000 [==============================] - 9s - loss: 0.6955 - acc: 0.7725     \n",
      " 9856/10000 [============================>.] - ETA: 0sEpoch 1/1\n",
      "30000/30000 [==============================] - 9s - loss: 0.6130 - acc: 0.8011     \n",
      " 9920/10000 [============================>.] - ETA: 0sEpoch 1/1\n",
      "30000/30000 [==============================] - 9s - loss: 0.6396 - acc: 0.7973     \n",
      " 9728/10000 [============================>.] - ETA: 0sEpoch 1/1\n",
      "30000/30000 [==============================] - 10s - loss: 0.7201 - acc: 0.7668    \n",
      " 9728/10000 [============================>.] - ETA: 0sEpoch 1/1\n",
      "30000/30000 [==============================] - 11s - loss: 0.6708 - acc: 0.7841    \n",
      " 9664/10000 [===========================>..] - ETA: 0sEpoch 1/1\n",
      "30000/30000 [==============================] - 10s - loss: 0.7196 - acc: 0.7693    \n",
      "10000/10000 [==============================] - 2s     \n",
      "Epoch 1/1\n",
      "40000/40000 [==============================] - 12s - loss: 0.5395 - acc: 0.8297    \n",
      "Best: 0.949825 using {'activation': 'relu', 'optimizer': 'Adam'}\n"
     ]
    }
   ],
   "source": [
    "def DNN(activation='relu', optimizer='Adam'):\n",
    "    model = Sequential()\n",
    "    model.add(Conv2D(10, (5, 5), activation=activation, input_shape=input_shape))\n",
    "    model.add(MaxPooling2D(pool_size=(2, 2)))\n",
    "    model.add(Conv2D(10, (5, 5), activation=activation))\n",
    "    model.add(Dropout(0.5))\n",
    "    # add 2D pooling layer\n",
    "    model.add(MaxPooling2D(pool_size=(2, 2)))\n",
    "    # flatten data\n",
    "    model.add(Flatten())\n",
    "    # add a dense all-to-all relu layer\n",
    "    model.add(Dense(num_classes, activation='softmax'))\n",
    "    model.compile(loss=keras.losses.categorical_crossentropy,\n",
    "              optimizer=optimizer,\n",
    "              metrics=['accuracy'])\n",
    "\n",
    "    return model\n",
    "\n",
    "\n",
    "batch_size = 64\n",
    "epochs = 1\n",
    "model_gridsearch = KerasClassifier(build_fn=DNN, \n",
    "                        epochs=epochs, batch_size=batch_size, verbose=1)\n",
    "\n",
    "# define parameter dictionary\n",
    "optimizer = ['SGD', 'Adam', 'Adamax']\n",
    "activation = ['relu', 'elu']\n",
    "param_grid = dict(optimizer=optimizer, activation=activation)\n",
    "\n",
    "# call scikit grid search module\n",
    "grid = GridSearchCV(estimator=model_gridsearch, param_grid=param_grid, n_jobs=1, cv=4)\n",
    "grid_result = grid.fit(X_train,Y_train)   \n",
    "\n",
    "print(\"Best: %f using %s\" % (grid_result.best_score_, grid_result.best_params_))"
   ]
  },
  {
   "cell_type": "code",
   "execution_count": 21,
   "metadata": {},
   "outputs": [
    {
     "name": "stdout",
     "output_type": "stream",
     "text": [
      "Best: 0.949825 using {'activation': 'relu', 'optimizer': 'Adam'}\n"
     ]
    }
   ],
   "source": [
    "print(\"Best: %f using %s\" % (grid_result.best_score_, grid_result.best_params_))"
   ]
  },
  {
   "cell_type": "markdown",
   "metadata": {},
   "source": [
    "<span style=\"color:blue\"> <i> Then, we create an arbitrary DNN (you are free to choose any activation function, optimization scheme, etc) and evaluate its performance. Then, we add two convolutional layers and pooling layers and evaluate its performance again. </i></span> <br>"
   ]
  },
  {
   "cell_type": "code",
   "execution_count": 15,
   "metadata": {},
   "outputs": [
    {
     "name": "stdout",
     "output_type": "stream",
     "text": [
      "Train on 40000 samples, validate on 10000 samples\n",
      "Epoch 1/1\n",
      "40000/40000 [==============================] - 2s - loss: 1.4777 - acc: 0.4511 - val_loss: 0.7666 - val_acc: 0.8537\n",
      " 8864/10000 [=========================>....] - ETA: 0s"
     ]
    }
   ],
   "source": [
    "def create_DNN_6():\n",
    "    model = Sequential()\n",
    "    model.add(Dense(10,input_shape=(img_rows*img_cols,), activation='relu'))\n",
    "    model.add(Dropout(0.5))\n",
    "    return model\n",
    "\n",
    "model = create_DNN_6()\n",
    "model.add(Dense(num_classes, activation='softmax'))\n",
    "model.compile(loss=keras.losses.categorical_crossentropy,\n",
    "              optimizer=keras.optimizers.Adam(),\n",
    "              metrics=['accuracy'])\n",
    "\n",
    "batch_size = 64\n",
    "epochs = 1\n",
    "\n",
    "\n",
    "# train CNN\n",
    "model.fit(X_train, Y_train,\n",
    "          batch_size=batch_size,\n",
    "          epochs=epochs,\n",
    "          verbose=1,\n",
    "          validation_data=(X_test, Y_test))\n",
    "\n",
    "# evaliate model\n",
    "score_1 = model.evaluate(X_test, Y_test, verbose=1)"
   ]
  },
  {
   "cell_type": "code",
   "execution_count": 17,
   "metadata": {},
   "outputs": [
    {
     "name": "stdout",
     "output_type": "stream",
     "text": [
      "X_train shape: (40000, 28, 28, 1)\n",
      "Y_train shape: (40000, 10)\n",
      "\n",
      "40000 train samples\n",
      "10000 test samples\n"
     ]
    }
   ],
   "source": [
    "# reshape data, depending on Keras backend\n",
    "if keras.backend.image_data_format() == 'channels_first':\n",
    "    X_train = X_train.reshape(X_train.shape[0], 1, img_rows, img_cols)\n",
    "    X_test = X_test.reshape(X_test.shape[0], 1, img_rows, img_cols)\n",
    "    input_shape = (1, img_rows, img_cols)\n",
    "else:\n",
    "    X_train = X_train.reshape(X_train.shape[0], img_rows, img_cols, 1)\n",
    "    X_test = X_test.reshape(X_test.shape[0], img_rows, img_cols, 1)\n",
    "    input_shape = (img_rows, img_cols, 1)\n",
    "    \n",
    "print('X_train shape:', X_train.shape)\n",
    "print('Y_train shape:', Y_train.shape)\n",
    "print()\n",
    "print(X_train.shape[0], 'train samples')\n",
    "print(X_test.shape[0], 'test samples')"
   ]
  },
  {
   "cell_type": "code",
   "execution_count": 23,
   "metadata": {},
   "outputs": [
    {
     "name": "stdout",
     "output_type": "stream",
     "text": [
      "Train on 40000 samples, validate on 10000 samples\n",
      "Epoch 1/1\n",
      "40000/40000 [==============================] - 12s - loss: 1.4160 - acc: 0.4639 - val_loss: 0.6298 - val_acc: 0.9225\n",
      " 9824/10000 [============================>.] - ETA: 0s"
     ]
    }
   ],
   "source": [
    "batch_size = 64\n",
    "epochs = 1\n",
    "\n",
    "model = Sequential()\n",
    "model.add(Conv2D(10, (5, 5), activation='relu', input_shape=input_shape))\n",
    "model.add(MaxPooling2D(pool_size=(2, 2)))\n",
    "model.add(Conv2D(10, (5, 5), activation='relu'))\n",
    "model.add(Dropout(0.5))\n",
    "# add 2D pooling layer\n",
    "model.add(MaxPooling2D(pool_size=(2, 2)))\n",
    "# flatten data\n",
    "model.add(Flatten())\n",
    "model.add(Dense(10,input_shape=(img_rows*img_cols,), activation='relu'))\n",
    "model.add(Dropout(0.5))\n",
    "# add a dense all-to-all relu layer\n",
    "model.add(Dense(num_classes, activation='softmax'))\n",
    "model.compile(loss=keras.losses.categorical_crossentropy,\n",
    "        optimizer=keras.optimizers.Adam(),\n",
    "        metrics=['accuracy'])\n",
    "\n",
    "model.fit(X_train, Y_train,\n",
    "          batch_size=batch_size,\n",
    "          epochs=epochs,\n",
    "          verbose=1,\n",
    "          validation_data=(X_test, Y_test))\n",
    "\n",
    "score_2 = model.evaluate(X_test, Y_test, verbose=1)"
   ]
  },
  {
   "cell_type": "markdown",
   "metadata": {},
   "source": [
    "### Results "
   ]
  },
  {
   "cell_type": "code",
   "execution_count": 25,
   "metadata": {},
   "outputs": [
    {
     "name": "stdout",
     "output_type": "stream",
     "text": [
      "Test loss without conventional layers: 0.7665949113845825\n",
      "Test accuracy without conventional layers: 0.8537\n",
      "Test loss with conventional layers: 0.629766546344757\n",
      "Test accuracy with conventional layers: 0.9225\n"
     ]
    }
   ],
   "source": [
    "print('Test loss without conventional layers:', score_1[0])\n",
    "print('Test accuracy without conventional layers:', score_1[1])\n",
    "print('Test loss with conventional layers:', score_2[0])\n",
    "print('Test accuracy with conventional layers:', score_2[1])"
   ]
  },
  {
   "cell_type": "markdown",
   "metadata": {},
   "source": [
    "### Adding conventional layers reduces the loss and increases the accuracy. "
   ]
  }
 ],
 "metadata": {
  "kernelspec": {
   "display_name": "Python 3",
   "language": "python",
   "name": "python3"
  },
  "language_info": {
   "codemirror_mode": {
    "name": "ipython",
    "version": 3
   },
   "file_extension": ".py",
   "mimetype": "text/x-python",
   "name": "python",
   "nbconvert_exporter": "python",
   "pygments_lexer": "ipython3",
   "version": "3.7.3"
  }
 },
 "nbformat": 4,
 "nbformat_minor": 2
}
